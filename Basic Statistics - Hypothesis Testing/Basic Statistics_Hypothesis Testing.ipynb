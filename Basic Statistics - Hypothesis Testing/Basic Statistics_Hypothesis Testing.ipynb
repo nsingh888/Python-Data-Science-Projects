{
 "cells": [
  {
   "cell_type": "code",
   "execution_count": 1,
   "id": "431b4d7a",
   "metadata": {},
   "outputs": [],
   "source": [
    "#Importing necessary packages\n",
    "import numpy as np\n",
    "import pandas as pd\n",
    "import matplotlib.pyplot as plt\n",
    "import seaborn as sns\n",
    "import scipy.stats as stats \n",
    "\n",
    "import warnings\n",
    "warnings.filterwarnings('ignore')"
   ]
  },
  {
   "cell_type": "markdown",
   "id": "4fdb8340",
   "metadata": {},
   "source": [
    "## -------------------------------------------------       BUSINESS PROBLEM 1        -----------------------------------------------"
   ]
  },
  {
   "cell_type": "markdown",
   "id": "09c800a5",
   "metadata": {},
   "source": [
    "#### Importing data"
   ]
  },
  {
   "cell_type": "code",
   "execution_count": 2,
   "id": "520311ff",
   "metadata": {},
   "outputs": [],
   "source": [
    "loans = pd.read_csv('C:/Users/ACER PC/Desktop/ANALYTIX_LAB/Python Class Notes/Basic Statistics - Hypothesis Testing/LoansData.csv')"
   ]
  },
  {
   "cell_type": "markdown",
   "id": "dba9befc",
   "metadata": {},
   "source": [
    "#### UDFs"
   ]
  },
  {
   "cell_type": "code",
   "execution_count": 3,
   "id": "9977f133",
   "metadata": {},
   "outputs": [],
   "source": [
    "# Create Data audit Report for continuous variables\n",
    "def continuous_var_summary( x ):\n",
    "    \n",
    "    n_tot = x.isnull().count()\n",
    "    n_miss = x.isnull().sum()\n",
    "    n_miss_perc = n_miss / n_tot\n",
    "    \n",
    "    p25 = x.quantile(0.25)\n",
    "    p75 = x.quantile(0.75)\n",
    "    \n",
    "    iqr = p75 - p25\n",
    "    \n",
    "    lc_iqr = p25 - 1.5 * iqr\n",
    "    uc_iqr = p75 + 1.5 * iqr\n",
    "    \n",
    "    return pd.Series( [ x.dtype, x.nunique(), n_tot, x.count(), n_miss, n_miss_perc, \n",
    "                       x.sum(), x.var(), x.std(), x.mean(), \n",
    "                       iqr, lc_iqr, uc_iqr, \n",
    "                       x.min(), x.quantile(0.01), x.quantile(0.05), x.quantile(0.10), \n",
    "                       x.quantile(0.25), x.quantile(0.50), x.quantile(0.75), \n",
    "                       x.quantile(0.90), x.quantile(0.95), x.quantile(0.99), x.max()],\n",
    "                     \n",
    "                    index = ['dtype', 'cardinality', 'n_tot', 'n', 'n_miss', 'n_miss_perc',\n",
    "                             'sum', 'var', 'std', 'mean',\n",
    "                             'iqr', 'lc_iqr', 'uc_iqr',\n",
    "                             'min', 'p1', 'p5', 'p10', \n",
    "                             'p25', 'p50', 'p75', \n",
    "                             'p90', 'p95', 'p99', 'max'])"
   ]
  },
  {
   "cell_type": "code",
   "execution_count": 4,
   "id": "8bd99cd9",
   "metadata": {},
   "outputs": [],
   "source": [
    "# Create Data audit Report for categorical variables\n",
    "def categorical_var_summary(x):\n",
    "    Mode = x.value_counts().sort_values(ascending = False)[0:1].reset_index()\n",
    "    return pd.Series([x.count(), x.isnull().sum(), Mode.iloc[0, 0], Mode.iloc[0, 1], \n",
    "                          round(Mode.iloc[0, 1] * 100/x.count(), 2)], \n",
    "                  index = ['N', 'NMISS', 'MODE', 'FREQ', 'PERCENT'])"
   ]
  },
  {
   "cell_type": "markdown",
   "id": "d579e417",
   "metadata": {},
   "source": [
    "#### MetaData Check"
   ]
  },
  {
   "cell_type": "code",
   "execution_count": 5,
   "id": "77ff1168",
   "metadata": {},
   "outputs": [
    {
     "name": "stdout",
     "output_type": "stream",
     "text": [
      "<class 'pandas.core.frame.DataFrame'>\n",
      "RangeIndex: 2500 entries, 0 to 2499\n",
      "Data columns (total 14 columns):\n",
      " #   Column                          Non-Null Count  Dtype  \n",
      "---  ------                          --------------  -----  \n",
      " 0   Amount.Requested                2499 non-null   float64\n",
      " 1   Amount.Funded.By.Investors      2499 non-null   float64\n",
      " 2   Interest.Rate                   2498 non-null   object \n",
      " 3   Loan.Length                     2500 non-null   object \n",
      " 4   Loan.Purpose                    2500 non-null   object \n",
      " 5   Debt.To.Income.Ratio            2499 non-null   object \n",
      " 6   State                           2500 non-null   object \n",
      " 7   Home.Ownership                  2499 non-null   object \n",
      " 8   Monthly.Income                  2499 non-null   float64\n",
      " 9   FICO.Range                      2498 non-null   object \n",
      " 10  Open.CREDIT.Lines               2497 non-null   float64\n",
      " 11  Revolving.CREDIT.Balance        2497 non-null   float64\n",
      " 12  Inquiries.in.the.Last.6.Months  2497 non-null   float64\n",
      " 13  Employment.Length               2423 non-null   object \n",
      "dtypes: float64(6), object(8)\n",
      "memory usage: 273.6+ KB\n"
     ]
    }
   ],
   "source": [
    "#Checking if the data is imported correctly or not\n",
    "loans.info()"
   ]
  },
  {
   "cell_type": "code",
   "execution_count": 6,
   "id": "6a65eda1",
   "metadata": {
    "scrolled": true
   },
   "outputs": [
    {
     "data": {
      "text/html": [
       "<div>\n",
       "<style scoped>\n",
       "    .dataframe tbody tr th:only-of-type {\n",
       "        vertical-align: middle;\n",
       "    }\n",
       "\n",
       "    .dataframe tbody tr th {\n",
       "        vertical-align: top;\n",
       "    }\n",
       "\n",
       "    .dataframe thead th {\n",
       "        text-align: right;\n",
       "    }\n",
       "</style>\n",
       "<table border=\"1\" class=\"dataframe\">\n",
       "  <thead>\n",
       "    <tr style=\"text-align: right;\">\n",
       "      <th></th>\n",
       "      <th>Amount.Requested</th>\n",
       "      <th>Amount.Funded.By.Investors</th>\n",
       "      <th>Interest.Rate</th>\n",
       "      <th>Loan.Length</th>\n",
       "      <th>Loan.Purpose</th>\n",
       "      <th>Debt.To.Income.Ratio</th>\n",
       "      <th>State</th>\n",
       "      <th>Home.Ownership</th>\n",
       "      <th>Monthly.Income</th>\n",
       "      <th>FICO.Range</th>\n",
       "      <th>Open.CREDIT.Lines</th>\n",
       "      <th>Revolving.CREDIT.Balance</th>\n",
       "      <th>Inquiries.in.the.Last.6.Months</th>\n",
       "      <th>Employment.Length</th>\n",
       "    </tr>\n",
       "  </thead>\n",
       "  <tbody>\n",
       "    <tr>\n",
       "      <th>0</th>\n",
       "      <td>20000.0</td>\n",
       "      <td>20000.0</td>\n",
       "      <td>8.90%</td>\n",
       "      <td>36 months</td>\n",
       "      <td>debt_consolidation</td>\n",
       "      <td>14.90%</td>\n",
       "      <td>SC</td>\n",
       "      <td>MORTGAGE</td>\n",
       "      <td>6541.67</td>\n",
       "      <td>735-739</td>\n",
       "      <td>14.0</td>\n",
       "      <td>14272.0</td>\n",
       "      <td>2.0</td>\n",
       "      <td>&lt; 1 year</td>\n",
       "    </tr>\n",
       "    <tr>\n",
       "      <th>1</th>\n",
       "      <td>19200.0</td>\n",
       "      <td>19200.0</td>\n",
       "      <td>12.12%</td>\n",
       "      <td>36 months</td>\n",
       "      <td>debt_consolidation</td>\n",
       "      <td>28.36%</td>\n",
       "      <td>TX</td>\n",
       "      <td>MORTGAGE</td>\n",
       "      <td>4583.33</td>\n",
       "      <td>715-719</td>\n",
       "      <td>12.0</td>\n",
       "      <td>11140.0</td>\n",
       "      <td>1.0</td>\n",
       "      <td>2 years</td>\n",
       "    </tr>\n",
       "    <tr>\n",
       "      <th>2</th>\n",
       "      <td>35000.0</td>\n",
       "      <td>35000.0</td>\n",
       "      <td>21.98%</td>\n",
       "      <td>60 months</td>\n",
       "      <td>debt_consolidation</td>\n",
       "      <td>23.81%</td>\n",
       "      <td>CA</td>\n",
       "      <td>MORTGAGE</td>\n",
       "      <td>11500.00</td>\n",
       "      <td>690-694</td>\n",
       "      <td>14.0</td>\n",
       "      <td>21977.0</td>\n",
       "      <td>1.0</td>\n",
       "      <td>2 years</td>\n",
       "    </tr>\n",
       "    <tr>\n",
       "      <th>3</th>\n",
       "      <td>10000.0</td>\n",
       "      <td>9975.0</td>\n",
       "      <td>9.99%</td>\n",
       "      <td>36 months</td>\n",
       "      <td>debt_consolidation</td>\n",
       "      <td>14.30%</td>\n",
       "      <td>KS</td>\n",
       "      <td>MORTGAGE</td>\n",
       "      <td>3833.33</td>\n",
       "      <td>695-699</td>\n",
       "      <td>10.0</td>\n",
       "      <td>9346.0</td>\n",
       "      <td>0.0</td>\n",
       "      <td>5 years</td>\n",
       "    </tr>\n",
       "    <tr>\n",
       "      <th>4</th>\n",
       "      <td>12000.0</td>\n",
       "      <td>12000.0</td>\n",
       "      <td>11.71%</td>\n",
       "      <td>36 months</td>\n",
       "      <td>credit_card</td>\n",
       "      <td>18.78%</td>\n",
       "      <td>NJ</td>\n",
       "      <td>RENT</td>\n",
       "      <td>3195.00</td>\n",
       "      <td>695-699</td>\n",
       "      <td>11.0</td>\n",
       "      <td>14469.0</td>\n",
       "      <td>0.0</td>\n",
       "      <td>9 years</td>\n",
       "    </tr>\n",
       "  </tbody>\n",
       "</table>\n",
       "</div>"
      ],
      "text/plain": [
       "   Amount.Requested  Amount.Funded.By.Investors Interest.Rate Loan.Length  \\\n",
       "0           20000.0                     20000.0         8.90%   36 months   \n",
       "1           19200.0                     19200.0        12.12%   36 months   \n",
       "2           35000.0                     35000.0        21.98%   60 months   \n",
       "3           10000.0                      9975.0         9.99%   36 months   \n",
       "4           12000.0                     12000.0        11.71%   36 months   \n",
       "\n",
       "         Loan.Purpose Debt.To.Income.Ratio State Home.Ownership  \\\n",
       "0  debt_consolidation               14.90%    SC       MORTGAGE   \n",
       "1  debt_consolidation               28.36%    TX       MORTGAGE   \n",
       "2  debt_consolidation               23.81%    CA       MORTGAGE   \n",
       "3  debt_consolidation               14.30%    KS       MORTGAGE   \n",
       "4         credit_card               18.78%    NJ           RENT   \n",
       "\n",
       "   Monthly.Income FICO.Range  Open.CREDIT.Lines  Revolving.CREDIT.Balance  \\\n",
       "0         6541.67    735-739               14.0                   14272.0   \n",
       "1         4583.33    715-719               12.0                   11140.0   \n",
       "2        11500.00    690-694               14.0                   21977.0   \n",
       "3         3833.33    695-699               10.0                    9346.0   \n",
       "4         3195.00    695-699               11.0                   14469.0   \n",
       "\n",
       "   Inquiries.in.the.Last.6.Months Employment.Length  \n",
       "0                             2.0          < 1 year  \n",
       "1                             1.0           2 years  \n",
       "2                             1.0           2 years  \n",
       "3                             0.0           5 years  \n",
       "4                             0.0           9 years  "
      ]
     },
     "execution_count": 6,
     "metadata": {},
     "output_type": "execute_result"
    }
   ],
   "source": [
    "loans.head()"
   ]
  },
  {
   "cell_type": "code",
   "execution_count": 7,
   "id": "e899e094",
   "metadata": {},
   "outputs": [
    {
     "name": "stdout",
     "output_type": "stream",
     "text": [
      "0 transaction rows affected\n"
     ]
    }
   ],
   "source": [
    "#Duplicate Detection\n",
    "print(sum(loans.duplicated(keep='first')),\"transaction rows affected\")"
   ]
  },
  {
   "cell_type": "code",
   "execution_count": 8,
   "id": "0cbe44dc",
   "metadata": {},
   "outputs": [
    {
     "data": {
      "text/plain": [
       "Amount.Requested                   1\n",
       "Amount.Funded.By.Investors         1\n",
       "Interest.Rate                      2\n",
       "Loan.Length                        0\n",
       "Loan.Purpose                       0\n",
       "Debt.To.Income.Ratio               1\n",
       "State                              0\n",
       "Home.Ownership                     1\n",
       "Monthly.Income                     1\n",
       "FICO.Range                         2\n",
       "Open.CREDIT.Lines                  3\n",
       "Revolving.CREDIT.Balance           3\n",
       "Inquiries.in.the.Last.6.Months     3\n",
       "Employment.Length                 77\n",
       "dtype: int64"
      ]
     },
     "execution_count": 8,
     "metadata": {},
     "output_type": "execute_result"
    }
   ],
   "source": [
    "#Missing values Identification\n",
    "loans.isna().sum()"
   ]
  },
  {
   "cell_type": "markdown",
   "id": "73e7e2db",
   "metadata": {},
   "source": [
    "##### Observations\n",
    "1) variable names are not following the INC rules\n",
    "2) Interest Rate, Debt to Income Ratio requires datatype change\n",
    "3) No duplicate records in the dataset\n",
    "4) Dataset requires missing value treatment"
   ]
  },
  {
   "cell_type": "markdown",
   "id": "48dd981a",
   "metadata": {},
   "source": [
    "##### Rename the variable to follow INC rules"
   ]
  },
  {
   "cell_type": "code",
   "execution_count": 9,
   "id": "b83a1336",
   "metadata": {},
   "outputs": [],
   "source": [
    "loans.columns = ['Amount_Requested', 'Amount_Funded_By_Investors', 'Interest_Rate',\n",
    "       'Loan_Length', 'Loan_Purpose', 'Debt_To_Income_Ratio', 'State',\n",
    "       'Home_Ownership', 'Monthly_Income', 'FICO_Range', 'Open_CREDIT_Lines',\n",
    "       'Revolving_CREDIT_Balance', 'Inquiries_in_the_Last_6_Months',\n",
    "       'Employment_Length']"
   ]
  },
  {
   "cell_type": "code",
   "execution_count": 10,
   "id": "667cc5bc",
   "metadata": {
    "scrolled": true
   },
   "outputs": [
    {
     "data": {
      "text/html": [
       "<div>\n",
       "<style scoped>\n",
       "    .dataframe tbody tr th:only-of-type {\n",
       "        vertical-align: middle;\n",
       "    }\n",
       "\n",
       "    .dataframe tbody tr th {\n",
       "        vertical-align: top;\n",
       "    }\n",
       "\n",
       "    .dataframe thead th {\n",
       "        text-align: right;\n",
       "    }\n",
       "</style>\n",
       "<table border=\"1\" class=\"dataframe\">\n",
       "  <thead>\n",
       "    <tr style=\"text-align: right;\">\n",
       "      <th></th>\n",
       "      <th>Amount_Requested</th>\n",
       "      <th>Amount_Funded_By_Investors</th>\n",
       "      <th>Interest_Rate</th>\n",
       "      <th>Loan_Length</th>\n",
       "      <th>Loan_Purpose</th>\n",
       "      <th>Debt_To_Income_Ratio</th>\n",
       "      <th>State</th>\n",
       "      <th>Home_Ownership</th>\n",
       "      <th>Monthly_Income</th>\n",
       "      <th>FICO_Range</th>\n",
       "      <th>Open_CREDIT_Lines</th>\n",
       "      <th>Revolving_CREDIT_Balance</th>\n",
       "      <th>Inquiries_in_the_Last_6_Months</th>\n",
       "      <th>Employment_Length</th>\n",
       "    </tr>\n",
       "  </thead>\n",
       "  <tbody>\n",
       "    <tr>\n",
       "      <th>0</th>\n",
       "      <td>20000.0</td>\n",
       "      <td>20000.0</td>\n",
       "      <td>8.90%</td>\n",
       "      <td>36 months</td>\n",
       "      <td>debt_consolidation</td>\n",
       "      <td>14.90%</td>\n",
       "      <td>SC</td>\n",
       "      <td>MORTGAGE</td>\n",
       "      <td>6541.67</td>\n",
       "      <td>735-739</td>\n",
       "      <td>14.0</td>\n",
       "      <td>14272.0</td>\n",
       "      <td>2.0</td>\n",
       "      <td>&lt; 1 year</td>\n",
       "    </tr>\n",
       "    <tr>\n",
       "      <th>1</th>\n",
       "      <td>19200.0</td>\n",
       "      <td>19200.0</td>\n",
       "      <td>12.12%</td>\n",
       "      <td>36 months</td>\n",
       "      <td>debt_consolidation</td>\n",
       "      <td>28.36%</td>\n",
       "      <td>TX</td>\n",
       "      <td>MORTGAGE</td>\n",
       "      <td>4583.33</td>\n",
       "      <td>715-719</td>\n",
       "      <td>12.0</td>\n",
       "      <td>11140.0</td>\n",
       "      <td>1.0</td>\n",
       "      <td>2 years</td>\n",
       "    </tr>\n",
       "    <tr>\n",
       "      <th>2</th>\n",
       "      <td>35000.0</td>\n",
       "      <td>35000.0</td>\n",
       "      <td>21.98%</td>\n",
       "      <td>60 months</td>\n",
       "      <td>debt_consolidation</td>\n",
       "      <td>23.81%</td>\n",
       "      <td>CA</td>\n",
       "      <td>MORTGAGE</td>\n",
       "      <td>11500.00</td>\n",
       "      <td>690-694</td>\n",
       "      <td>14.0</td>\n",
       "      <td>21977.0</td>\n",
       "      <td>1.0</td>\n",
       "      <td>2 years</td>\n",
       "    </tr>\n",
       "    <tr>\n",
       "      <th>3</th>\n",
       "      <td>10000.0</td>\n",
       "      <td>9975.0</td>\n",
       "      <td>9.99%</td>\n",
       "      <td>36 months</td>\n",
       "      <td>debt_consolidation</td>\n",
       "      <td>14.30%</td>\n",
       "      <td>KS</td>\n",
       "      <td>MORTGAGE</td>\n",
       "      <td>3833.33</td>\n",
       "      <td>695-699</td>\n",
       "      <td>10.0</td>\n",
       "      <td>9346.0</td>\n",
       "      <td>0.0</td>\n",
       "      <td>5 years</td>\n",
       "    </tr>\n",
       "    <tr>\n",
       "      <th>4</th>\n",
       "      <td>12000.0</td>\n",
       "      <td>12000.0</td>\n",
       "      <td>11.71%</td>\n",
       "      <td>36 months</td>\n",
       "      <td>credit_card</td>\n",
       "      <td>18.78%</td>\n",
       "      <td>NJ</td>\n",
       "      <td>RENT</td>\n",
       "      <td>3195.00</td>\n",
       "      <td>695-699</td>\n",
       "      <td>11.0</td>\n",
       "      <td>14469.0</td>\n",
       "      <td>0.0</td>\n",
       "      <td>9 years</td>\n",
       "    </tr>\n",
       "  </tbody>\n",
       "</table>\n",
       "</div>"
      ],
      "text/plain": [
       "   Amount_Requested  Amount_Funded_By_Investors Interest_Rate Loan_Length  \\\n",
       "0           20000.0                     20000.0         8.90%   36 months   \n",
       "1           19200.0                     19200.0        12.12%   36 months   \n",
       "2           35000.0                     35000.0        21.98%   60 months   \n",
       "3           10000.0                      9975.0         9.99%   36 months   \n",
       "4           12000.0                     12000.0        11.71%   36 months   \n",
       "\n",
       "         Loan_Purpose Debt_To_Income_Ratio State Home_Ownership  \\\n",
       "0  debt_consolidation               14.90%    SC       MORTGAGE   \n",
       "1  debt_consolidation               28.36%    TX       MORTGAGE   \n",
       "2  debt_consolidation               23.81%    CA       MORTGAGE   \n",
       "3  debt_consolidation               14.30%    KS       MORTGAGE   \n",
       "4         credit_card               18.78%    NJ           RENT   \n",
       "\n",
       "   Monthly_Income FICO_Range  Open_CREDIT_Lines  Revolving_CREDIT_Balance  \\\n",
       "0         6541.67    735-739               14.0                   14272.0   \n",
       "1         4583.33    715-719               12.0                   11140.0   \n",
       "2        11500.00    690-694               14.0                   21977.0   \n",
       "3         3833.33    695-699               10.0                    9346.0   \n",
       "4         3195.00    695-699               11.0                   14469.0   \n",
       "\n",
       "   Inquiries_in_the_Last_6_Months Employment_Length  \n",
       "0                             2.0          < 1 year  \n",
       "1                             1.0           2 years  \n",
       "2                             1.0           2 years  \n",
       "3                             0.0           5 years  \n",
       "4                             0.0           9 years  "
      ]
     },
     "execution_count": 10,
     "metadata": {},
     "output_type": "execute_result"
    }
   ],
   "source": [
    "loans.head()"
   ]
  },
  {
   "cell_type": "markdown",
   "id": "89b526f4",
   "metadata": {},
   "source": [
    "##### Datatype conversion"
   ]
  },
  {
   "cell_type": "code",
   "execution_count": 11,
   "id": "3d94c3f9",
   "metadata": {
    "scrolled": true
   },
   "outputs": [],
   "source": [
    "#formatting Interest_Rate column to remove '%'\n",
    "loans.loc[:, 'Interest_Rate'] = loans.Interest_Rate.str.replace('%', ' ').astype('float')"
   ]
  },
  {
   "cell_type": "code",
   "execution_count": 12,
   "id": "1ef085d9",
   "metadata": {},
   "outputs": [],
   "source": [
    "#formatting Debt_To_Income_Ratio column to remove '%'\n",
    "loans.loc[:, 'Debt_To_Income_Ratio'] = loans.Debt_To_Income_Ratio.str.replace('%', ' ').astype('float')"
   ]
  },
  {
   "cell_type": "code",
   "execution_count": 13,
   "id": "59506d93",
   "metadata": {},
   "outputs": [
    {
     "name": "stdout",
     "output_type": "stream",
     "text": [
      "float64\n",
      "float64\n"
     ]
    }
   ],
   "source": [
    "print(loans.Interest_Rate.dtype)\n",
    "print(loans.Debt_To_Income_Ratio.dtype)"
   ]
  },
  {
   "cell_type": "markdown",
   "id": "2e31bf30",
   "metadata": {},
   "source": [
    "##### Missing Value Treatment"
   ]
  },
  {
   "cell_type": "code",
   "execution_count": 14,
   "id": "9f07dde3",
   "metadata": {},
   "outputs": [
    {
     "data": {
      "text/plain": [
       "Employment_Length                 3.08\n",
       "Open_CREDIT_Lines                 0.12\n",
       "Revolving_CREDIT_Balance          0.12\n",
       "Inquiries_in_the_Last_6_Months    0.12\n",
       "Interest_Rate                     0.08\n",
       "FICO_Range                        0.08\n",
       "Amount_Requested                  0.04\n",
       "Amount_Funded_By_Investors        0.04\n",
       "Debt_To_Income_Ratio              0.04\n",
       "Home_Ownership                    0.04\n",
       "Monthly_Income                    0.04\n",
       "Loan_Length                       0.00\n",
       "Loan_Purpose                      0.00\n",
       "State                             0.00\n",
       "dtype: float64"
      ]
     },
     "execution_count": 14,
     "metadata": {},
     "output_type": "execute_result"
    }
   ],
   "source": [
    "#Percentage of Missing values\n",
    "((loans.isnull().sum()/loans.shape[0])*100).sort_values(ascending=False)"
   ]
  },
  {
   "cell_type": "code",
   "execution_count": 15,
   "id": "657c96e2",
   "metadata": {},
   "outputs": [],
   "source": [
    "#We are dropping the missing value since the percentage of missing values is not more than 4%\n",
    "loans.dropna( axis=0, how= 'any', inplace= True)"
   ]
  },
  {
   "cell_type": "code",
   "execution_count": 16,
   "id": "314ad0fc",
   "metadata": {},
   "outputs": [
    {
     "data": {
      "text/plain": [
       "0"
      ]
     },
     "execution_count": 16,
     "metadata": {},
     "output_type": "execute_result"
    }
   ],
   "source": [
    "#No missing value in the dataset\n",
    "loans.isna().sum().sum()"
   ]
  },
  {
   "cell_type": "markdown",
   "id": "58ebe9e3",
   "metadata": {},
   "source": [
    "##### Outlier Detection and Treatment"
   ]
  },
  {
   "cell_type": "code",
   "execution_count": 17,
   "id": "cdf0fe2f",
   "metadata": {},
   "outputs": [],
   "source": [
    "#Separating the Continuous and Categorical variables\n",
    "cont_var = loans.select_dtypes(include=['int', 'float'])\n",
    "cat_var = loans.select_dtypes(include=['object'])"
   ]
  },
  {
   "cell_type": "code",
   "execution_count": 18,
   "id": "5672bf6c",
   "metadata": {},
   "outputs": [
    {
     "data": {
      "text/html": [
       "<div>\n",
       "<style scoped>\n",
       "    .dataframe tbody tr th:only-of-type {\n",
       "        vertical-align: middle;\n",
       "    }\n",
       "\n",
       "    .dataframe tbody tr th {\n",
       "        vertical-align: top;\n",
       "    }\n",
       "\n",
       "    .dataframe thead th {\n",
       "        text-align: right;\n",
       "    }\n",
       "</style>\n",
       "<table border=\"1\" class=\"dataframe\">\n",
       "  <thead>\n",
       "    <tr style=\"text-align: right;\">\n",
       "      <th></th>\n",
       "      <th>Amount_Requested</th>\n",
       "      <th>Amount_Funded_By_Investors</th>\n",
       "      <th>Interest_Rate</th>\n",
       "      <th>Debt_To_Income_Ratio</th>\n",
       "      <th>Monthly_Income</th>\n",
       "      <th>Open_CREDIT_Lines</th>\n",
       "      <th>Revolving_CREDIT_Balance</th>\n",
       "      <th>Inquiries_in_the_Last_6_Months</th>\n",
       "    </tr>\n",
       "  </thead>\n",
       "  <tbody>\n",
       "    <tr>\n",
       "      <th>dtype</th>\n",
       "      <td>float64</td>\n",
       "      <td>float64</td>\n",
       "      <td>float64</td>\n",
       "      <td>float64</td>\n",
       "      <td>float64</td>\n",
       "      <td>float64</td>\n",
       "      <td>float64</td>\n",
       "      <td>float64</td>\n",
       "    </tr>\n",
       "    <tr>\n",
       "      <th>cardinality</th>\n",
       "      <td>370</td>\n",
       "      <td>697</td>\n",
       "      <td>273</td>\n",
       "      <td>1629</td>\n",
       "      <td>608</td>\n",
       "      <td>29</td>\n",
       "      <td>2277</td>\n",
       "      <td>10</td>\n",
       "    </tr>\n",
       "    <tr>\n",
       "      <th>n_tot</th>\n",
       "      <td>2413</td>\n",
       "      <td>2413</td>\n",
       "      <td>2413</td>\n",
       "      <td>2413</td>\n",
       "      <td>2413</td>\n",
       "      <td>2413</td>\n",
       "      <td>2413</td>\n",
       "      <td>2413</td>\n",
       "    </tr>\n",
       "    <tr>\n",
       "      <th>n</th>\n",
       "      <td>2413</td>\n",
       "      <td>2413</td>\n",
       "      <td>2413</td>\n",
       "      <td>2413</td>\n",
       "      <td>2413</td>\n",
       "      <td>2413</td>\n",
       "      <td>2413</td>\n",
       "      <td>2413</td>\n",
       "    </tr>\n",
       "    <tr>\n",
       "      <th>n_miss</th>\n",
       "      <td>0</td>\n",
       "      <td>0</td>\n",
       "      <td>0</td>\n",
       "      <td>0</td>\n",
       "      <td>0</td>\n",
       "      <td>0</td>\n",
       "      <td>0</td>\n",
       "      <td>0</td>\n",
       "    </tr>\n",
       "    <tr>\n",
       "      <th>n_miss_perc</th>\n",
       "      <td>0.0</td>\n",
       "      <td>0.0</td>\n",
       "      <td>0.0</td>\n",
       "      <td>0.0</td>\n",
       "      <td>0.0</td>\n",
       "      <td>0.0</td>\n",
       "      <td>0.0</td>\n",
       "      <td>0.0</td>\n",
       "    </tr>\n",
       "    <tr>\n",
       "      <th>sum</th>\n",
       "      <td>30142125.0</td>\n",
       "      <td>29134654.63</td>\n",
       "      <td>31551.4</td>\n",
       "      <td>37136.37</td>\n",
       "      <td>13840406.88</td>\n",
       "      <td>24386.0</td>\n",
       "      <td>36919635.0</td>\n",
       "      <td>2184.0</td>\n",
       "    </tr>\n",
       "    <tr>\n",
       "      <th>var</th>\n",
       "      <td>60589131.874644</td>\n",
       "      <td>59719612.099461</td>\n",
       "      <td>17.29343</td>\n",
       "      <td>56.0252</td>\n",
       "      <td>15951629.704442</td>\n",
       "      <td>20.321244</td>\n",
       "      <td>335894088.355356</td>\n",
       "      <td>1.527889</td>\n",
       "    </tr>\n",
       "    <tr>\n",
       "      <th>std</th>\n",
       "      <td>7783.902098</td>\n",
       "      <td>7727.846537</td>\n",
       "      <td>4.158537</td>\n",
       "      <td>7.484998</td>\n",
       "      <td>3993.949136</td>\n",
       "      <td>4.507909</td>\n",
       "      <td>18327.413575</td>\n",
       "      <td>1.236078</td>\n",
       "    </tr>\n",
       "    <tr>\n",
       "      <th>mean</th>\n",
       "      <td>12491.556154</td>\n",
       "      <td>12074.038388</td>\n",
       "      <td>13.075591</td>\n",
       "      <td>15.390124</td>\n",
       "      <td>5735.76746</td>\n",
       "      <td>10.106092</td>\n",
       "      <td>15300.3046</td>\n",
       "      <td>0.905097</td>\n",
       "    </tr>\n",
       "    <tr>\n",
       "      <th>iqr</th>\n",
       "      <td>11000.0</td>\n",
       "      <td>10175.0</td>\n",
       "      <td>5.64</td>\n",
       "      <td>10.92</td>\n",
       "      <td>3333.33</td>\n",
       "      <td>6.0</td>\n",
       "      <td>13423.0</td>\n",
       "      <td>1.0</td>\n",
       "    </tr>\n",
       "    <tr>\n",
       "      <th>lc_iqr</th>\n",
       "      <td>-10500.0</td>\n",
       "      <td>-9262.5</td>\n",
       "      <td>1.7</td>\n",
       "      <td>-6.62</td>\n",
       "      <td>-1499.995</td>\n",
       "      <td>-2.0</td>\n",
       "      <td>-14521.5</td>\n",
       "      <td>-1.5</td>\n",
       "    </tr>\n",
       "    <tr>\n",
       "      <th>uc_iqr</th>\n",
       "      <td>33500.0</td>\n",
       "      <td>31437.5</td>\n",
       "      <td>24.26</td>\n",
       "      <td>37.06</td>\n",
       "      <td>11833.325</td>\n",
       "      <td>22.0</td>\n",
       "      <td>39170.5</td>\n",
       "      <td>2.5</td>\n",
       "    </tr>\n",
       "    <tr>\n",
       "      <th>min</th>\n",
       "      <td>1000.0</td>\n",
       "      <td>-0.01</td>\n",
       "      <td>5.42</td>\n",
       "      <td>0.0</td>\n",
       "      <td>588.5</td>\n",
       "      <td>2.0</td>\n",
       "      <td>0.0</td>\n",
       "      <td>0.0</td>\n",
       "    </tr>\n",
       "    <tr>\n",
       "      <th>p1</th>\n",
       "      <td>1500.0</td>\n",
       "      <td>1000.0</td>\n",
       "      <td>5.814</td>\n",
       "      <td>0.7464</td>\n",
       "      <td>1500.0</td>\n",
       "      <td>3.0</td>\n",
       "      <td>0.0</td>\n",
       "      <td>0.0</td>\n",
       "    </tr>\n",
       "    <tr>\n",
       "      <th>p5</th>\n",
       "      <td>3000.0</td>\n",
       "      <td>2265.0</td>\n",
       "      <td>6.62</td>\n",
       "      <td>3.18</td>\n",
       "      <td>2250.0</td>\n",
       "      <td>4.0</td>\n",
       "      <td>980.2</td>\n",
       "      <td>0.0</td>\n",
       "    </tr>\n",
       "    <tr>\n",
       "      <th>p10</th>\n",
       "      <td>4000.0</td>\n",
       "      <td>3800.0</td>\n",
       "      <td>7.62</td>\n",
       "      <td>5.336</td>\n",
       "      <td>2666.67</td>\n",
       "      <td>5.0</td>\n",
       "      <td>2316.0</td>\n",
       "      <td>0.0</td>\n",
       "    </tr>\n",
       "    <tr>\n",
       "      <th>p25</th>\n",
       "      <td>6000.0</td>\n",
       "      <td>6000.0</td>\n",
       "      <td>10.16</td>\n",
       "      <td>9.76</td>\n",
       "      <td>3500.0</td>\n",
       "      <td>7.0</td>\n",
       "      <td>5613.0</td>\n",
       "      <td>0.0</td>\n",
       "    </tr>\n",
       "    <tr>\n",
       "      <th>p50</th>\n",
       "      <td>10000.0</td>\n",
       "      <td>10000.0</td>\n",
       "      <td>13.11</td>\n",
       "      <td>15.33</td>\n",
       "      <td>5000.0</td>\n",
       "      <td>9.0</td>\n",
       "      <td>11016.0</td>\n",
       "      <td>0.0</td>\n",
       "    </tr>\n",
       "    <tr>\n",
       "      <th>p75</th>\n",
       "      <td>17000.0</td>\n",
       "      <td>16175.0</td>\n",
       "      <td>15.8</td>\n",
       "      <td>20.68</td>\n",
       "      <td>6833.33</td>\n",
       "      <td>13.0</td>\n",
       "      <td>19036.0</td>\n",
       "      <td>1.0</td>\n",
       "    </tr>\n",
       "    <tr>\n",
       "      <th>p90</th>\n",
       "      <td>24000.0</td>\n",
       "      <td>23950.0</td>\n",
       "      <td>18.64</td>\n",
       "      <td>24.968</td>\n",
       "      <td>9333.33</td>\n",
       "      <td>16.0</td>\n",
       "      <td>30668.4</td>\n",
       "      <td>3.0</td>\n",
       "    </tr>\n",
       "    <tr>\n",
       "      <th>p95</th>\n",
       "      <td>28000.0</td>\n",
       "      <td>27910.952</td>\n",
       "      <td>20.49</td>\n",
       "      <td>28.274</td>\n",
       "      <td>12000.0</td>\n",
       "      <td>18.0</td>\n",
       "      <td>40771.8</td>\n",
       "      <td>3.0</td>\n",
       "    </tr>\n",
       "    <tr>\n",
       "      <th>p99</th>\n",
       "      <td>35000.0</td>\n",
       "      <td>35000.0</td>\n",
       "      <td>22.95</td>\n",
       "      <td>33.2204</td>\n",
       "      <td>18750.0</td>\n",
       "      <td>23.0</td>\n",
       "      <td>91715.12</td>\n",
       "      <td>5.0</td>\n",
       "    </tr>\n",
       "    <tr>\n",
       "      <th>max</th>\n",
       "      <td>35000.0</td>\n",
       "      <td>35000.0</td>\n",
       "      <td>24.89</td>\n",
       "      <td>34.91</td>\n",
       "      <td>102750.0</td>\n",
       "      <td>38.0</td>\n",
       "      <td>270800.0</td>\n",
       "      <td>9.0</td>\n",
       "    </tr>\n",
       "  </tbody>\n",
       "</table>\n",
       "</div>"
      ],
      "text/plain": [
       "            Amount_Requested Amount_Funded_By_Investors Interest_Rate  \\\n",
       "dtype                float64                    float64       float64   \n",
       "cardinality              370                        697           273   \n",
       "n_tot                   2413                       2413          2413   \n",
       "n                       2413                       2413          2413   \n",
       "n_miss                     0                          0             0   \n",
       "n_miss_perc              0.0                        0.0           0.0   \n",
       "sum               30142125.0                29134654.63       31551.4   \n",
       "var          60589131.874644            59719612.099461      17.29343   \n",
       "std              7783.902098                7727.846537      4.158537   \n",
       "mean            12491.556154               12074.038388     13.075591   \n",
       "iqr                  11000.0                    10175.0          5.64   \n",
       "lc_iqr              -10500.0                    -9262.5           1.7   \n",
       "uc_iqr               33500.0                    31437.5         24.26   \n",
       "min                   1000.0                      -0.01          5.42   \n",
       "p1                    1500.0                     1000.0         5.814   \n",
       "p5                    3000.0                     2265.0          6.62   \n",
       "p10                   4000.0                     3800.0          7.62   \n",
       "p25                   6000.0                     6000.0         10.16   \n",
       "p50                  10000.0                    10000.0         13.11   \n",
       "p75                  17000.0                    16175.0          15.8   \n",
       "p90                  24000.0                    23950.0         18.64   \n",
       "p95                  28000.0                  27910.952         20.49   \n",
       "p99                  35000.0                    35000.0         22.95   \n",
       "max                  35000.0                    35000.0         24.89   \n",
       "\n",
       "            Debt_To_Income_Ratio   Monthly_Income Open_CREDIT_Lines  \\\n",
       "dtype                    float64          float64           float64   \n",
       "cardinality                 1629              608                29   \n",
       "n_tot                       2413             2413              2413   \n",
       "n                           2413             2413              2413   \n",
       "n_miss                         0                0                 0   \n",
       "n_miss_perc                  0.0              0.0               0.0   \n",
       "sum                     37136.37      13840406.88           24386.0   \n",
       "var                      56.0252  15951629.704442         20.321244   \n",
       "std                     7.484998      3993.949136          4.507909   \n",
       "mean                   15.390124       5735.76746         10.106092   \n",
       "iqr                        10.92          3333.33               6.0   \n",
       "lc_iqr                     -6.62        -1499.995              -2.0   \n",
       "uc_iqr                     37.06        11833.325              22.0   \n",
       "min                          0.0            588.5               2.0   \n",
       "p1                        0.7464           1500.0               3.0   \n",
       "p5                          3.18           2250.0               4.0   \n",
       "p10                        5.336          2666.67               5.0   \n",
       "p25                         9.76           3500.0               7.0   \n",
       "p50                        15.33           5000.0               9.0   \n",
       "p75                        20.68          6833.33              13.0   \n",
       "p90                       24.968          9333.33              16.0   \n",
       "p95                       28.274          12000.0              18.0   \n",
       "p99                      33.2204          18750.0              23.0   \n",
       "max                        34.91         102750.0              38.0   \n",
       "\n",
       "            Revolving_CREDIT_Balance Inquiries_in_the_Last_6_Months  \n",
       "dtype                        float64                        float64  \n",
       "cardinality                     2277                             10  \n",
       "n_tot                           2413                           2413  \n",
       "n                               2413                           2413  \n",
       "n_miss                             0                              0  \n",
       "n_miss_perc                      0.0                            0.0  \n",
       "sum                       36919635.0                         2184.0  \n",
       "var                 335894088.355356                       1.527889  \n",
       "std                     18327.413575                       1.236078  \n",
       "mean                      15300.3046                       0.905097  \n",
       "iqr                          13423.0                            1.0  \n",
       "lc_iqr                      -14521.5                           -1.5  \n",
       "uc_iqr                       39170.5                            2.5  \n",
       "min                              0.0                            0.0  \n",
       "p1                               0.0                            0.0  \n",
       "p5                             980.2                            0.0  \n",
       "p10                           2316.0                            0.0  \n",
       "p25                           5613.0                            0.0  \n",
       "p50                          11016.0                            0.0  \n",
       "p75                          19036.0                            1.0  \n",
       "p90                          30668.4                            3.0  \n",
       "p95                          40771.8                            3.0  \n",
       "p99                         91715.12                            5.0  \n",
       "max                         270800.0                            9.0  "
      ]
     },
     "execution_count": 18,
     "metadata": {},
     "output_type": "execute_result"
    }
   ],
   "source": [
    "#EDA for all the continuous variables\n",
    "cont_var.apply(lambda x: continuous_var_summary(x))"
   ]
  },
  {
   "cell_type": "code",
   "execution_count": 19,
   "id": "3f049671",
   "metadata": {},
   "outputs": [
    {
     "data": {
      "text/html": [
       "<div>\n",
       "<style scoped>\n",
       "    .dataframe tbody tr th:only-of-type {\n",
       "        vertical-align: middle;\n",
       "    }\n",
       "\n",
       "    .dataframe tbody tr th {\n",
       "        vertical-align: top;\n",
       "    }\n",
       "\n",
       "    .dataframe thead th {\n",
       "        text-align: right;\n",
       "    }\n",
       "</style>\n",
       "<table border=\"1\" class=\"dataframe\">\n",
       "  <thead>\n",
       "    <tr style=\"text-align: right;\">\n",
       "      <th></th>\n",
       "      <th>Loan_Length</th>\n",
       "      <th>Loan_Purpose</th>\n",
       "      <th>State</th>\n",
       "      <th>Home_Ownership</th>\n",
       "      <th>FICO_Range</th>\n",
       "      <th>Employment_Length</th>\n",
       "    </tr>\n",
       "  </thead>\n",
       "  <tbody>\n",
       "    <tr>\n",
       "      <th>N</th>\n",
       "      <td>2413</td>\n",
       "      <td>2413</td>\n",
       "      <td>2413</td>\n",
       "      <td>2413</td>\n",
       "      <td>2413</td>\n",
       "      <td>2413</td>\n",
       "    </tr>\n",
       "    <tr>\n",
       "      <th>NMISS</th>\n",
       "      <td>0</td>\n",
       "      <td>0</td>\n",
       "      <td>0</td>\n",
       "      <td>0</td>\n",
       "      <td>0</td>\n",
       "      <td>0</td>\n",
       "    </tr>\n",
       "    <tr>\n",
       "      <th>MODE</th>\n",
       "      <td>36 months</td>\n",
       "      <td>debt_consolidation</td>\n",
       "      <td>CA</td>\n",
       "      <td>RENT</td>\n",
       "      <td>670-674</td>\n",
       "      <td>10+ years</td>\n",
       "    </tr>\n",
       "    <tr>\n",
       "      <th>FREQ</th>\n",
       "      <td>1876</td>\n",
       "      <td>1262</td>\n",
       "      <td>416</td>\n",
       "      <td>1110</td>\n",
       "      <td>167</td>\n",
       "      <td>649</td>\n",
       "    </tr>\n",
       "    <tr>\n",
       "      <th>PERCENT</th>\n",
       "      <td>77.75</td>\n",
       "      <td>52.3</td>\n",
       "      <td>17.24</td>\n",
       "      <td>46.0</td>\n",
       "      <td>6.92</td>\n",
       "      <td>26.9</td>\n",
       "    </tr>\n",
       "  </tbody>\n",
       "</table>\n",
       "</div>"
      ],
      "text/plain": [
       "        Loan_Length        Loan_Purpose  State Home_Ownership FICO_Range  \\\n",
       "N              2413                2413   2413           2413       2413   \n",
       "NMISS             0                   0      0              0          0   \n",
       "MODE      36 months  debt_consolidation     CA           RENT    670-674   \n",
       "FREQ           1876                1262    416           1110        167   \n",
       "PERCENT       77.75                52.3  17.24           46.0       6.92   \n",
       "\n",
       "        Employment_Length  \n",
       "N                    2413  \n",
       "NMISS                   0  \n",
       "MODE            10+ years  \n",
       "FREQ                  649  \n",
       "PERCENT              26.9  "
      ]
     },
     "execution_count": 19,
     "metadata": {},
     "output_type": "execute_result"
    }
   ],
   "source": [
    "#EDA for all the categorical variables\n",
    "cat_var.apply(lambda x: categorical_var_summary(x))"
   ]
  },
  {
   "cell_type": "code",
   "execution_count": 20,
   "id": "4404afd1",
   "metadata": {},
   "outputs": [
    {
     "data": {
      "image/png": "[encoded data removed]",
      "text/plain": [
       "<Figure size 500x300 with 1 Axes>"
      ]
     },
     "metadata": {},
     "output_type": "display_data"
    },
    {
     "data": {
      "image/png": "[encoded data removed]",
      "text/plain": [
       "<Figure size 500x300 with 1 Axes>"
      ]
     },
     "metadata": {},
     "output_type": "display_data"
    },
    {
     "data": {
      "image/png": "[encoded data removed]",
      "text/plain": [
       "<Figure size 500x300 with 1 Axes>"
      ]
     },
     "metadata": {},
     "output_type": "display_data"
    },
    {
     "data": {
      "image/png": "[encoded data removed]",
      "text/plain": [
       "<Figure size 500x300 with 1 Axes>"
      ]
     },
     "metadata": {},
     "output_type": "display_data"
    },
    {
     "data": {
      "image/png": "[encoded data removed]",
      "text/plain": [
       "<Figure size 500x300 with 1 Axes>"
      ]
     },
     "metadata": {},
     "output_type": "display_data"
    },
    {
     "data": {
      "image/png": "[encoded data removed]",
      "text/plain": [
       "<Figure size 500x300 with 1 Axes>"
      ]
     },
     "metadata": {},
     "output_type": "display_data"
    },
    {
     "data": {
      "image/png": "[encoded data removed]",
      "text/plain": [
       "<Figure size 500x300 with 1 Axes>"
      ]
     },
     "metadata": {},
     "output_type": "display_data"
    },
    {
     "data": {
      "image/png": "[encoded data removed]",
      "text/plain": [
       "<Figure size 500x300 with 1 Axes>"
      ]
     },
     "metadata": {},
     "output_type": "display_data"
    }
   ],
   "source": [
    "#To check outlier for all the variable\n",
    "def func( x ):\n",
    "    plt.figure( figsize = (5, 3) )\n",
    "    plt.title( 'This is a boxplot for ' + x.name )\n",
    "    x.plot(kind = 'box')\n",
    "    plt.show()\n",
    "\n",
    "cont_var.apply( func )\n",
    "plt.show()"
   ]
  },
  {
   "cell_type": "code",
   "execution_count": 21,
   "id": "9fa1c12a",
   "metadata": {},
   "outputs": [],
   "source": [
    "cont_var = cont_var.apply( lambda x: x.clip( lower = x.quantile(0.01), upper = x.quantile(0.99) ) )"
   ]
  },
  {
   "cell_type": "markdown",
   "id": "6f925315",
   "metadata": {},
   "source": [
    "#### combine the cat and cont variables"
   ]
  },
  {
   "cell_type": "code",
   "execution_count": 22,
   "id": "c4593539",
   "metadata": {},
   "outputs": [
    {
     "data": {
      "text/plain": [
       "(2413, 14)"
      ]
     },
     "execution_count": 22,
     "metadata": {},
     "output_type": "execute_result"
    }
   ],
   "source": [
    "#Since we havent made any changes in the categoical and continuous variables so no need to combine them. We will use the original df only\n",
    "df_loans = pd.concat([cat_var, cont_var], axis = 1 )\n",
    "df_loans.shape"
   ]
  },
  {
   "cell_type": "markdown",
   "id": "03e806d8",
   "metadata": {},
   "source": [
    "### a) Intrest rate is varied for different loan amounts (Less intrest charged for high loan amounts)"
   ]
  },
  {
   "cell_type": "code",
   "execution_count": 23,
   "id": "8ecd64f6",
   "metadata": {},
   "outputs": [],
   "source": [
    "#grouping the requested loan amount into three groups:\n",
    "df_loans['amount_cat'] = pd.qcut(x = df_loans.Amount_Requested, q = 3, labels=['low', 'mid', 'high'])"
   ]
  },
  {
   "cell_type": "code",
   "execution_count": 24,
   "id": "8b2ba11f",
   "metadata": {
    "scrolled": true
   },
   "outputs": [
    {
     "name": "stdout",
     "output_type": "stream",
     "text": [
      "mean interest rate for low amount:  11.935852873563219 | mean interest rate for mid amount:  12.580082424242425 | mean interest rate for high amount:  15.002604456824514\n"
     ]
    }
   ],
   "source": [
    "# declare the variable for which we want to do the analysis\n",
    "var = 'Interest_Rate'\n",
    "\n",
    "# filter the data based on amount_cat\n",
    "low_amt = df_loans.loc[df_loans.amount_cat == 'low', var]\n",
    "mid_amt = df_loans.loc[df_loans.amount_cat == 'mid', var]\n",
    "high_amt = df_loans.loc[df_loans.amount_cat == 'high', var]\n",
    "\n",
    "# display the mean of the three sample\n",
    "print('mean interest rate for low amount: ', low_amt.mean(), \n",
    "          '| mean interest rate for mid amount: ', mid_amt.mean(), \n",
    "              '| mean interest rate for high amount: ', high_amt.mean() )"
   ]
  },
  {
   "cell_type": "code",
   "execution_count": 25,
   "id": "7e73c523",
   "metadata": {},
   "outputs": [
    {
     "data": {
      "text/plain": [
       "Text(0.5, 1.0, 'Average Interest Rates by Different Amount Categories')"
      ]
     },
     "execution_count": 25,
     "metadata": {},
     "output_type": "execute_result"
    },
    {
     "data": {
      "image/png": "[encoded data removed]",
      "text/plain": [
       "<Figure size 500x300 with 1 Axes>"
      ]
     },
     "metadata": {},
     "output_type": "display_data"
    }
   ],
   "source": [
    "#generate a bar chart for the means\n",
    "bar1 = pd.DataFrame({'Requested Amount Category': {0: 'low', 1: 'mid', 2: 'high'}, \n",
    "                   'Mean': {0: low_amt.mean(), 1: mid_amt.mean(), 2: high_amt.mean()}}) \n",
    "\n",
    "fig = plt.figure(figsize = (5, 3))\n",
    "sns.barplot(x=\"Requested Amount Category\", y = 'Mean', data = bar1, width= 0.5 )\n",
    "plt.title(\"Average Interest Rates by Different Amount Categories\")"
   ]
  },
  {
   "cell_type": "markdown",
   "id": "fa5793f4",
   "metadata": {},
   "source": [
    "#### From the above bar chart we can say that high interest rate is charged against the high requested amount and vice-versa. To confirm this we will conduct hypothesis testing. \n",
    "#### Since we need to find the relationship between two continuous variables we will perform Pearson's Correlation Test\n",
    "\n",
    "*Pearson's Correlation Test*\n",
    "\n",
    "#### Step 1: Hypothesis\n",
    "                            Null hypothesis: There is no relationship between the Amount_Requested and Interest Rate.\n",
    "                            Alternative hypothesis: There is an association between the Amount_Requested and Interest Rate.\n",
    "#### Step 2: Criteria for Decision\n",
    "                                    alpha = 0.05\n",
    "                                    Accept null hypothesis if p-value is greater than alpha\n",
    "                                    Reject null hypothesis if p-value is less than alpha\n",
    "#### Step 3: Calculating Test Statistics and P-value"
   ]
  },
  {
   "cell_type": "code",
   "execution_count": 26,
   "id": "fdcfd0ab",
   "metadata": {},
   "outputs": [],
   "source": [
    "alpha = 0.05\n",
    "s, p = stats.pearsonr(df_loans.Amount_Requested, df_loans.Interest_Rate)"
   ]
  },
  {
   "cell_type": "markdown",
   "id": "44941936",
   "metadata": {},
   "source": [
    "#### Step 4: Making Decision"
   ]
  },
  {
   "cell_type": "code",
   "execution_count": 27,
   "id": "f21a9d18",
   "metadata": {},
   "outputs": [
    {
     "name": "stdout",
     "output_type": "stream",
     "text": [
      "Alpha: 0.05 \n",
      "Statistics: 0.3247783331605936 \n",
      "P-value: 2.1824409019634344e-60\n",
      "Decision: Reject Null Hypothesis as p-value is less than alpha.  There is an association between the Amount_Requested and Interest Rate.\n"
     ]
    }
   ],
   "source": [
    "print(f'Alpha: {alpha} \\nStatistics: {s} \\nP-value: {p}')\n",
    "if p > alpha:\n",
    "    print('Decision: Accept Null Hypothesis as p-value is greater than alpha. There is no relationship between the Amount_Requested and Interest Rate.')\n",
    "else:\n",
    "    print('Decision: Reject Null Hypothesis as p-value is less than alpha.  There is an association between the Amount_Requested and Interest Rate.')"
   ]
  },
  {
   "cell_type": "markdown",
   "id": "e0a978cf",
   "metadata": {},
   "source": [
    "#### Step 5: Business Implications\n",
    "With 95% confidence we can say that the there is a positive relationship between the Amount_Requested and Interest Rate. The larger the requested amount the more is the interested rate charged. So, Yes, the interest rate does varies with the loan amount but it is positively related (and not negative as asked in the question) which is also depicted in the bar chart as well."
   ]
  },
  {
   "cell_type": "markdown",
   "id": "79d6db26",
   "metadata": {},
   "source": [
    "### b) Checking if loan length is directly effecting interest rate"
   ]
  },
  {
   "cell_type": "code",
   "execution_count": 28,
   "id": "1b362363",
   "metadata": {},
   "outputs": [
    {
     "data": {
      "text/plain": [
       "36 months    1876\n",
       "60 months     537\n",
       "Name: Loan_Length, dtype: int64"
      ]
     },
     "execution_count": 28,
     "metadata": {},
     "output_type": "execute_result"
    }
   ],
   "source": [
    "df_loans.Loan_Length.value_counts()"
   ]
  },
  {
   "cell_type": "code",
   "execution_count": 29,
   "id": "cb2ed983",
   "metadata": {},
   "outputs": [],
   "source": [
    "#formatting Loan Length column to remove 'months'\n",
    "df_loans.loc[:, 'Loan_Length'] = df_loans.Loan_Length.str.replace(' months', ' ').astype('int')"
   ]
  },
  {
   "cell_type": "code",
   "execution_count": 30,
   "id": "23baea1c",
   "metadata": {},
   "outputs": [
    {
     "name": "stdout",
     "output_type": "stream",
     "text": [
      "Average interest rate for 36 month Loan Period:  12.131517057569297 | Average interest rate for 60 month Loan Period:  16.342465549348233\n"
     ]
    }
   ],
   "source": [
    "# declare the variable for which we want to do the analysis\n",
    "var = 'Interest_Rate'\n",
    "\n",
    "# filter the data based on Loan Length\n",
    "len_36_months = df_loans.loc[ df_loans.Loan_Length == 36, var ]\n",
    "len_60_months = df_loans.loc[ df_loans.Loan_Length == 60, var ]\n",
    "\n",
    "# display the mean of the two samples\n",
    "print( 'Average interest rate for 36 month Loan Period: ', len_36_months.mean(), \n",
    "      '| Average interest rate for 60 month Loan Period: ', len_60_months.mean())"
   ]
  },
  {
   "cell_type": "code",
   "execution_count": 31,
   "id": "b81acd76",
   "metadata": {},
   "outputs": [
    {
     "data": {
      "text/plain": [
       "Text(0.5, 1.0, 'Average Interest Rates by Loan Duration ')"
      ]
     },
     "execution_count": 31,
     "metadata": {},
     "output_type": "execute_result"
    },
    {
     "data": {
      "image/png": "[encoded data removed]",
      "text/plain": [
       "<Figure size 500x300 with 1 Axes>"
      ]
     },
     "metadata": {},
     "output_type": "display_data"
    }
   ],
   "source": [
    "#generate a bar chart for the means\n",
    "bar1 = pd.DataFrame({'Loan Duration': {0: '36 Months', 1: '60 Months'}, \n",
    "                   'Mean': {0: len_36_months.mean(), 1: len_60_months.mean()}}) \n",
    "\n",
    "fig = plt.figure(figsize = (5, 3))\n",
    "sns.barplot(x='Loan Duration', y = 'Mean', data = bar1, width= 0.5 )\n",
    "plt.title(\"Average Interest Rates by Loan Duration \")"
   ]
  },
  {
   "cell_type": "markdown",
   "id": "227a1e78",
   "metadata": {},
   "source": [
    "#### Above analysis shows that the higher interest rates are charged for 60 month loan period where as lower interest rates are charged for 36 month loan period. To support the claim we will perform the Spearsman Rank Correlation"
   ]
  },
  {
   "cell_type": "markdown",
   "id": "a5db7de2",
   "metadata": {},
   "source": [
    "### Spearsman Rank Correlation Test"
   ]
  },
  {
   "cell_type": "markdown",
   "id": "6cbe0cc3",
   "metadata": {},
   "source": [
    "#### Step 1: Hypothesis"
   ]
  },
  {
   "cell_type": "markdown",
   "id": "d04c4ef5",
   "metadata": {},
   "source": [
    "                    Null hypothesis: There is no relationship between the loan_length and Interest Rate.\n",
    "                    Alternative hypothesis: There is an association between the loan_length and Interest Rate."
   ]
  },
  {
   "cell_type": "markdown",
   "id": "23ea0a60",
   "metadata": {},
   "source": [
    "#### Step 2: Criteria for Decision\n",
    "\n",
    "                alpha = 0.01\n",
    "                Accept null hypothesis if p-value is greater than alpha\n",
    "                Reject null hypothesis if p-value is less than alpha"
   ]
  },
  {
   "cell_type": "markdown",
   "id": "9cd8df88",
   "metadata": {},
   "source": [
    "#### Step 3: Calculating the Test Statistics and P-value    "
   ]
  },
  {
   "cell_type": "code",
   "execution_count": 32,
   "id": "22046830",
   "metadata": {
    "scrolled": true
   },
   "outputs": [],
   "source": [
    "alpha = 0.01\n",
    "correlation, p = stats.spearmanr( df_loans.Loan_Length , df_loans.Interest_Rate )"
   ]
  },
  {
   "cell_type": "markdown",
   "id": "af525071",
   "metadata": {},
   "source": [
    "#### Step 4: Making Decision"
   ]
  },
  {
   "cell_type": "code",
   "execution_count": 33,
   "id": "1050a1d1",
   "metadata": {},
   "outputs": [
    {
     "name": "stdout",
     "output_type": "stream",
     "text": [
      "Alpha: 0.01 \n",
      "Correlation: 0.3908179455122753 \n",
      "P-value: 6.962883930016338e-89\n",
      "Decision: Reject Null Hypothesis as p-value is less than alpha.  There is an association between the loan_length and Interest Rate.\n"
     ]
    }
   ],
   "source": [
    "print(f'Alpha: {alpha} \\nCorrelation: {correlation} \\nP-value: {p}')\n",
    "if p > alpha:\n",
    "    print('Decision: Accept Null Hypothesis as p-value is greater than alpha. There is no relationship between the loan_length and Interest Rate.')\n",
    "else:\n",
    "    print('Decision: Reject Null Hypothesis as p-value is less than alpha.  There is an association between the loan_length and Interest Rate.')"
   ]
  },
  {
   "cell_type": "markdown",
   "id": "18bceaf2",
   "metadata": {},
   "source": [
    "#### Step 5: Business Implications\n",
    "With 99% confidence we can say that the there is a positive relationship between loan_length and Interest Rate. The higher the loan duration the higher is the interest rate that will be charged on the loan amount.\n",
    "\n",
    "**Conclusion**: Loan Length is directly affecting the interest Rate"
   ]
  },
  {
   "cell_type": "markdown",
   "id": "f159d92c",
   "metadata": {},
   "source": [
    "### c) Identifying if interest rate varies for different purpose of loans"
   ]
  },
  {
   "cell_type": "code",
   "execution_count": 34,
   "id": "cb9d555c",
   "metadata": {},
   "outputs": [
    {
     "data": {
      "text/plain": [
       "14"
      ]
     },
     "execution_count": 34,
     "metadata": {},
     "output_type": "execute_result"
    }
   ],
   "source": [
    "# Unique values in column: Loan_Purpose\n",
    "df_loans.Loan_Purpose.nunique()"
   ]
  },
  {
   "cell_type": "code",
   "execution_count": 35,
   "id": "b9361cb4",
   "metadata": {
    "scrolled": true
   },
   "outputs": [
    {
     "data": {
      "text/plain": [
       "debt_consolidation    1262\n",
       "credit_card            430\n",
       "other                  189\n",
       "home_improvement       147\n",
       "major_purchase         100\n",
       "small_business          83\n",
       "car                     50\n",
       "wedding                 37\n",
       "moving                  29\n",
       "medical                 28\n",
       "vacation                20\n",
       "house                   20\n",
       "educational             14\n",
       "renewable_energy         4\n",
       "Name: Loan_Purpose, dtype: int64"
      ]
     },
     "execution_count": 35,
     "metadata": {},
     "output_type": "execute_result"
    }
   ],
   "source": [
    "# Unique values frequencies in column: Loan_Purpose\n",
    "df_loans.Loan_Purpose.value_counts()"
   ]
  },
  {
   "cell_type": "code",
   "execution_count": 36,
   "id": "b1f4d5aa",
   "metadata": {},
   "outputs": [
    {
     "name": "stdout",
     "output_type": "stream",
     "text": [
      "mean of s1:  13.585871632329638 | mean of s2:  13.020781395348836 | mean of s3:  13.23541798941799 | mean of s4:  11.625768707482994 | mean of s5:  10.831180000000002 | mean of s6:  12.892698795180724 | mean of s7:  11.11348 | mean of s8:  11.969567567567568 | mean of s9:  11.765500000000001 | mean of s10:  13.527034482758623 | mean of s11:  12.2827 | mean of s12:  13.447999999999999 | mean of s13:  10.874285714285714 | mean of s14:  9.8775\n"
     ]
    }
   ],
   "source": [
    "# declare the variable for which we want to do the analysis\n",
    "var = 'Interest_Rate'\n",
    "\n",
    "# filter the data based on segments\n",
    "s1 = df_loans.loc[ df_loans.Loan_Purpose == 'debt_consolidation', var ]\n",
    "s2 = df_loans.loc[ df_loans.Loan_Purpose == 'credit_card', var ]\n",
    "s3 = df_loans.loc[ df_loans.Loan_Purpose == 'other', var ]\n",
    "s4 = df_loans.loc[ df_loans.Loan_Purpose == 'home_improvement', var ]\n",
    "s5 = df_loans.loc[ df_loans.Loan_Purpose == 'major_purchase', var ]\n",
    "s6 = df_loans.loc[ df_loans.Loan_Purpose == 'small_business', var ]\n",
    "s7 = df_loans.loc[ df_loans.Loan_Purpose == 'car', var ]\n",
    "s8 = df_loans.loc[ df_loans.Loan_Purpose == 'wedding', var ]\n",
    "s9 = df_loans.loc[ df_loans.Loan_Purpose == 'medical', var ]\n",
    "s10 = df_loans.loc[ df_loans.Loan_Purpose == 'moving', var ]\n",
    "s11 = df_loans.loc[ df_loans.Loan_Purpose == 'vacation', var ]\n",
    "s12 = df_loans.loc[ df_loans.Loan_Purpose == 'house', var ]\n",
    "s13 = df_loans.loc[ df_loans.Loan_Purpose == 'educational', var ]\n",
    "s14 = df_loans.loc[ df_loans.Loan_Purpose == 'renewable_energy', var ]\n",
    "\n",
    "# display the mean of the fourteen samples\n",
    "print( 'mean of s1: ', s1.mean(), '| mean of s2: ', s2.mean(), '| mean of s3: ', s3.mean(), \n",
    "        '| mean of s4: ', s4.mean(), '| mean of s5: ', s5.mean(), '| mean of s6: ', s6.mean(),\n",
    "          '| mean of s7: ', s7.mean(), '| mean of s8: ', s8.mean(), '| mean of s9: ', s9.mean(),\n",
    "            '| mean of s10: ', s10.mean(), '| mean of s11: ', s11.mean(), '| mean of s12: ', s12.mean(), \n",
    "              '| mean of s13: ', s13.mean(), '| mean of s14: ', s14.mean())"
   ]
  },
  {
   "cell_type": "code",
   "execution_count": 37,
   "id": "9792bbdf",
   "metadata": {},
   "outputs": [
    {
     "data": {
      "text/plain": [
       "Text(0.5, 1.0, 'Average Interest Rates Charged for Different Loan Purpose ')"
      ]
     },
     "execution_count": 37,
     "metadata": {},
     "output_type": "execute_result"
    },
    {
     "data": {
      "image/png": "[encoded data removed]",
      "text/plain": [
       "<Figure size 2200x800 with 1 Axes>"
      ]
     },
     "metadata": {},
     "output_type": "display_data"
    }
   ],
   "source": [
    "#generate a bar chart for the means\n",
    "bar1 = pd.DataFrame({'Purpose of Loan': {0: 'debt_consolidation', 1: 'credit_card', 2:'other', 3:'home_improvement', 4:'major_purchase', 5:'small_business', 6:'car', 7:'wedding', 8:'medical', 9:'moving', 10: 'vacation', 11:'house', 12:'educational', 13:'renewable_energy'}, \n",
    "                   'Mean': {0: s1.mean(), 1: s2.mean(), 2: s3.mean(), 3: s4.mean(), 4: s5.mean(), 5: s6.mean(), 6: s7.mean(), 7: s8.mean(), 8: s9.mean(), 9: s10.mean(), 10: s11.mean(), 11: s12.mean(), 12: s13.mean(), 13: s14.mean()}}) \n",
    "\n",
    "fig = plt.figure(figsize = (22, 8))\n",
    "sns.barplot(x='Purpose of Loan', y = 'Mean', data = bar1, width= 0.5)\n",
    "plt.title(\"Average Interest Rates Charged for Different Loan Purpose \")"
   ]
  },
  {
   "cell_type": "markdown",
   "id": "f3457b0c",
   "metadata": {},
   "source": [
    "#### From the bar plot we can see that different interest rates are charged for different purpose of loan. We will confirm this further with the help of hypothesis testing.\n",
    "\n",
    "#### Since one variable is categorical in nature and other is continuous and we have to make the comparison we will perform the ANOVA/F Test"
   ]
  },
  {
   "cell_type": "markdown",
   "id": "5e7204fa",
   "metadata": {},
   "source": [
    "### ANOVA or F-Test"
   ]
  },
  {
   "cell_type": "markdown",
   "id": "468997c8",
   "metadata": {},
   "source": [
    "#### Step 1: Hypothesis"
   ]
  },
  {
   "cell_type": "markdown",
   "id": "733abedb",
   "metadata": {},
   "source": [
    "                    Null hypothesis: All the samples are from SAME population, means are EQUAL\n",
    "                    Alternative hypothesis: Samples are from DIFFERENT population, means are UNEQUAL"
   ]
  },
  {
   "cell_type": "markdown",
   "id": "c17aa859",
   "metadata": {},
   "source": [
    "#### Step 2: Criteria for Decision\n",
    "\n",
    "                alpha = 0.05\n",
    "                Accept null hypothesis if p-value is greater than alpha\n",
    "                Reject null hypothesis if p-value is less than alpha"
   ]
  },
  {
   "cell_type": "markdown",
   "id": "943d6698",
   "metadata": {},
   "source": [
    "#### Step 3: Calculating the Test Statistics and P-value    "
   ]
  },
  {
   "cell_type": "code",
   "execution_count": 38,
   "id": "99a9dc62",
   "metadata": {
    "scrolled": true
   },
   "outputs": [],
   "source": [
    "alpha = 0.05\n",
    "s, p = stats.f_oneway( s1, s2, s3, s4, s5, s6, s7, s8, s9, s10, s11, s12, s13, s14)"
   ]
  },
  {
   "cell_type": "markdown",
   "id": "113f6577",
   "metadata": {},
   "source": [
    "#### Step 4: Making Decision"
   ]
  },
  {
   "cell_type": "code",
   "execution_count": 39,
   "id": "d2418770",
   "metadata": {},
   "outputs": [
    {
     "name": "stdout",
     "output_type": "stream",
     "text": [
      "Alpha: 0.05 \n",
      "T-statistic: 7.292345661311615 \n",
      "P-value: 3.422559273002036e-14\n",
      "Decision: Reject Null Hypothesis as p-value is less than alpha.  Hence the samples are NOT from the SAME population\n"
     ]
    }
   ],
   "source": [
    "print(f'Alpha: {alpha} \\nT-statistic: {s} \\nP-value: {p}')\n",
    "if p > alpha:\n",
    "    print('Decision: Fail to Reject the Null Hypothesis as p-value is greater than alpha. Hence the samples are from the SAME population')\n",
    "else: \n",
    "    print('Decision: Reject Null Hypothesis as p-value is less than alpha.  Hence the samples are NOT from the SAME population')"
   ]
  },
  {
   "cell_type": "markdown",
   "id": "dc6cc99f",
   "metadata": {},
   "source": [
    "#### Step 5: Business Implications\n",
    "With 95% confidence we can say that different interest rates are charged depending on the purpose for which customer requires the loan."
   ]
  },
  {
   "cell_type": "markdown",
   "id": "c617aa7a",
   "metadata": {},
   "source": [
    "### d) Identifying if there is relationship between FICO scores and Home Ownership or not.  "
   ]
  },
  {
   "cell_type": "code",
   "execution_count": 40,
   "id": "41fbdfe9",
   "metadata": {
    "scrolled": true
   },
   "outputs": [
    {
     "data": {
      "text/plain": [
       "670-674    167\n",
       "675-679    161\n",
       "680-684    157\n",
       "695-699    146\n",
       "665-669    138\n",
       "690-694    135\n",
       "705-709    131\n",
       "685-689    128\n",
       "700-704    124\n",
       "660-664    118\n",
       "720-724    108\n",
       "710-714    107\n",
       "730-734     94\n",
       "715-719     92\n",
       "725-729     91\n",
       "735-739     65\n",
       "750-754     60\n",
       "745-749     54\n",
       "740-744     50\n",
       "760-764     45\n",
       "755-759     44\n",
       "765-769     32\n",
       "780-784     26\n",
       "775-779     22\n",
       "790-794     20\n",
       "770-774     17\n",
       "785-789     17\n",
       "795-799     13\n",
       "800-804     12\n",
       "805-809     11\n",
       "810-814      8\n",
       "640-644      5\n",
       "815-819      5\n",
       "655-659      4\n",
       "645-649      3\n",
       "830-834      1\n",
       "820-824      1\n",
       "650-654      1\n",
       "Name: FICO_Range, dtype: int64"
      ]
     },
     "execution_count": 40,
     "metadata": {},
     "output_type": "execute_result"
    }
   ],
   "source": [
    "df_loans.FICO_Range.value_counts()"
   ]
  },
  {
   "cell_type": "code",
   "execution_count": 41,
   "id": "6f428fda",
   "metadata": {},
   "outputs": [
    {
     "data": {
      "text/html": [
       "<div>\n",
       "<style scoped>\n",
       "    .dataframe tbody tr th:only-of-type {\n",
       "        vertical-align: middle;\n",
       "    }\n",
       "\n",
       "    .dataframe tbody tr th {\n",
       "        vertical-align: top;\n",
       "    }\n",
       "\n",
       "    .dataframe thead th {\n",
       "        text-align: right;\n",
       "    }\n",
       "</style>\n",
       "<table border=\"1\" class=\"dataframe\">\n",
       "  <thead>\n",
       "    <tr style=\"text-align: right;\">\n",
       "      <th>Home_Ownership</th>\n",
       "      <th>MORTGAGE</th>\n",
       "      <th>OTHER</th>\n",
       "      <th>OWN</th>\n",
       "      <th>RENT</th>\n",
       "    </tr>\n",
       "    <tr>\n",
       "      <th>FICO_Range</th>\n",
       "      <th></th>\n",
       "      <th></th>\n",
       "      <th></th>\n",
       "      <th></th>\n",
       "    </tr>\n",
       "  </thead>\n",
       "  <tbody>\n",
       "    <tr>\n",
       "      <th>640-644</th>\n",
       "      <td>0</td>\n",
       "      <td>0</td>\n",
       "      <td>1</td>\n",
       "      <td>4</td>\n",
       "    </tr>\n",
       "    <tr>\n",
       "      <th>645-649</th>\n",
       "      <td>1</td>\n",
       "      <td>0</td>\n",
       "      <td>0</td>\n",
       "      <td>2</td>\n",
       "    </tr>\n",
       "    <tr>\n",
       "      <th>650-654</th>\n",
       "      <td>1</td>\n",
       "      <td>0</td>\n",
       "      <td>0</td>\n",
       "      <td>0</td>\n",
       "    </tr>\n",
       "    <tr>\n",
       "      <th>655-659</th>\n",
       "      <td>0</td>\n",
       "      <td>1</td>\n",
       "      <td>0</td>\n",
       "      <td>3</td>\n",
       "    </tr>\n",
       "    <tr>\n",
       "      <th>660-664</th>\n",
       "      <td>40</td>\n",
       "      <td>0</td>\n",
       "      <td>14</td>\n",
       "      <td>64</td>\n",
       "    </tr>\n",
       "    <tr>\n",
       "      <th>665-669</th>\n",
       "      <td>52</td>\n",
       "      <td>0</td>\n",
       "      <td>17</td>\n",
       "      <td>69</td>\n",
       "    </tr>\n",
       "    <tr>\n",
       "      <th>670-674</th>\n",
       "      <td>66</td>\n",
       "      <td>1</td>\n",
       "      <td>13</td>\n",
       "      <td>87</td>\n",
       "    </tr>\n",
       "    <tr>\n",
       "      <th>675-679</th>\n",
       "      <td>78</td>\n",
       "      <td>1</td>\n",
       "      <td>10</td>\n",
       "      <td>72</td>\n",
       "    </tr>\n",
       "    <tr>\n",
       "      <th>680-684</th>\n",
       "      <td>55</td>\n",
       "      <td>2</td>\n",
       "      <td>9</td>\n",
       "      <td>91</td>\n",
       "    </tr>\n",
       "    <tr>\n",
       "      <th>685-689</th>\n",
       "      <td>58</td>\n",
       "      <td>0</td>\n",
       "      <td>10</td>\n",
       "      <td>60</td>\n",
       "    </tr>\n",
       "    <tr>\n",
       "      <th>690-694</th>\n",
       "      <td>52</td>\n",
       "      <td>0</td>\n",
       "      <td>9</td>\n",
       "      <td>74</td>\n",
       "    </tr>\n",
       "    <tr>\n",
       "      <th>695-699</th>\n",
       "      <td>64</td>\n",
       "      <td>0</td>\n",
       "      <td>10</td>\n",
       "      <td>72</td>\n",
       "    </tr>\n",
       "    <tr>\n",
       "      <th>700-704</th>\n",
       "      <td>57</td>\n",
       "      <td>0</td>\n",
       "      <td>10</td>\n",
       "      <td>57</td>\n",
       "    </tr>\n",
       "    <tr>\n",
       "      <th>705-709</th>\n",
       "      <td>65</td>\n",
       "      <td>0</td>\n",
       "      <td>12</td>\n",
       "      <td>54</td>\n",
       "    </tr>\n",
       "    <tr>\n",
       "      <th>710-714</th>\n",
       "      <td>52</td>\n",
       "      <td>0</td>\n",
       "      <td>10</td>\n",
       "      <td>45</td>\n",
       "    </tr>\n",
       "    <tr>\n",
       "      <th>715-719</th>\n",
       "      <td>45</td>\n",
       "      <td>0</td>\n",
       "      <td>2</td>\n",
       "      <td>45</td>\n",
       "    </tr>\n",
       "    <tr>\n",
       "      <th>720-724</th>\n",
       "      <td>46</td>\n",
       "      <td>0</td>\n",
       "      <td>0</td>\n",
       "      <td>62</td>\n",
       "    </tr>\n",
       "    <tr>\n",
       "      <th>725-729</th>\n",
       "      <td>45</td>\n",
       "      <td>0</td>\n",
       "      <td>5</td>\n",
       "      <td>41</td>\n",
       "    </tr>\n",
       "    <tr>\n",
       "      <th>730-734</th>\n",
       "      <td>46</td>\n",
       "      <td>0</td>\n",
       "      <td>7</td>\n",
       "      <td>41</td>\n",
       "    </tr>\n",
       "    <tr>\n",
       "      <th>735-739</th>\n",
       "      <td>30</td>\n",
       "      <td>0</td>\n",
       "      <td>6</td>\n",
       "      <td>29</td>\n",
       "    </tr>\n",
       "    <tr>\n",
       "      <th>740-744</th>\n",
       "      <td>24</td>\n",
       "      <td>0</td>\n",
       "      <td>4</td>\n",
       "      <td>22</td>\n",
       "    </tr>\n",
       "    <tr>\n",
       "      <th>745-749</th>\n",
       "      <td>26</td>\n",
       "      <td>0</td>\n",
       "      <td>7</td>\n",
       "      <td>21</td>\n",
       "    </tr>\n",
       "    <tr>\n",
       "      <th>750-754</th>\n",
       "      <td>32</td>\n",
       "      <td>0</td>\n",
       "      <td>4</td>\n",
       "      <td>24</td>\n",
       "    </tr>\n",
       "    <tr>\n",
       "      <th>755-759</th>\n",
       "      <td>27</td>\n",
       "      <td>0</td>\n",
       "      <td>5</td>\n",
       "      <td>12</td>\n",
       "    </tr>\n",
       "    <tr>\n",
       "      <th>760-764</th>\n",
       "      <td>27</td>\n",
       "      <td>0</td>\n",
       "      <td>4</td>\n",
       "      <td>14</td>\n",
       "    </tr>\n",
       "    <tr>\n",
       "      <th>765-769</th>\n",
       "      <td>18</td>\n",
       "      <td>0</td>\n",
       "      <td>3</td>\n",
       "      <td>11</td>\n",
       "    </tr>\n",
       "    <tr>\n",
       "      <th>770-774</th>\n",
       "      <td>12</td>\n",
       "      <td>0</td>\n",
       "      <td>1</td>\n",
       "      <td>4</td>\n",
       "    </tr>\n",
       "    <tr>\n",
       "      <th>775-779</th>\n",
       "      <td>13</td>\n",
       "      <td>0</td>\n",
       "      <td>3</td>\n",
       "      <td>6</td>\n",
       "    </tr>\n",
       "    <tr>\n",
       "      <th>780-784</th>\n",
       "      <td>19</td>\n",
       "      <td>0</td>\n",
       "      <td>3</td>\n",
       "      <td>4</td>\n",
       "    </tr>\n",
       "    <tr>\n",
       "      <th>785-789</th>\n",
       "      <td>12</td>\n",
       "      <td>0</td>\n",
       "      <td>1</td>\n",
       "      <td>4</td>\n",
       "    </tr>\n",
       "    <tr>\n",
       "      <th>790-794</th>\n",
       "      <td>15</td>\n",
       "      <td>0</td>\n",
       "      <td>1</td>\n",
       "      <td>4</td>\n",
       "    </tr>\n",
       "    <tr>\n",
       "      <th>795-799</th>\n",
       "      <td>7</td>\n",
       "      <td>0</td>\n",
       "      <td>1</td>\n",
       "      <td>5</td>\n",
       "    </tr>\n",
       "    <tr>\n",
       "      <th>800-804</th>\n",
       "      <td>7</td>\n",
       "      <td>0</td>\n",
       "      <td>3</td>\n",
       "      <td>2</td>\n",
       "    </tr>\n",
       "    <tr>\n",
       "      <th>805-809</th>\n",
       "      <td>6</td>\n",
       "      <td>0</td>\n",
       "      <td>2</td>\n",
       "      <td>3</td>\n",
       "    </tr>\n",
       "    <tr>\n",
       "      <th>810-814</th>\n",
       "      <td>5</td>\n",
       "      <td>0</td>\n",
       "      <td>1</td>\n",
       "      <td>2</td>\n",
       "    </tr>\n",
       "    <tr>\n",
       "      <th>815-819</th>\n",
       "      <td>5</td>\n",
       "      <td>0</td>\n",
       "      <td>0</td>\n",
       "      <td>0</td>\n",
       "    </tr>\n",
       "    <tr>\n",
       "      <th>820-824</th>\n",
       "      <td>0</td>\n",
       "      <td>0</td>\n",
       "      <td>1</td>\n",
       "      <td>0</td>\n",
       "    </tr>\n",
       "    <tr>\n",
       "      <th>830-834</th>\n",
       "      <td>1</td>\n",
       "      <td>0</td>\n",
       "      <td>0</td>\n",
       "      <td>0</td>\n",
       "    </tr>\n",
       "  </tbody>\n",
       "</table>\n",
       "</div>"
      ],
      "text/plain": [
       "Home_Ownership  MORTGAGE  OTHER  OWN  RENT\n",
       "FICO_Range                                \n",
       "640-644                0      0    1     4\n",
       "645-649                1      0    0     2\n",
       "650-654                1      0    0     0\n",
       "655-659                0      1    0     3\n",
       "660-664               40      0   14    64\n",
       "665-669               52      0   17    69\n",
       "670-674               66      1   13    87\n",
       "675-679               78      1   10    72\n",
       "680-684               55      2    9    91\n",
       "685-689               58      0   10    60\n",
       "690-694               52      0    9    74\n",
       "695-699               64      0   10    72\n",
       "700-704               57      0   10    57\n",
       "705-709               65      0   12    54\n",
       "710-714               52      0   10    45\n",
       "715-719               45      0    2    45\n",
       "720-724               46      0    0    62\n",
       "725-729               45      0    5    41\n",
       "730-734               46      0    7    41\n",
       "735-739               30      0    6    29\n",
       "740-744               24      0    4    22\n",
       "745-749               26      0    7    21\n",
       "750-754               32      0    4    24\n",
       "755-759               27      0    5    12\n",
       "760-764               27      0    4    14\n",
       "765-769               18      0    3    11\n",
       "770-774               12      0    1     4\n",
       "775-779               13      0    3     6\n",
       "780-784               19      0    3     4\n",
       "785-789               12      0    1     4\n",
       "790-794               15      0    1     4\n",
       "795-799                7      0    1     5\n",
       "800-804                7      0    3     2\n",
       "805-809                6      0    2     3\n",
       "810-814                5      0    1     2\n",
       "815-819                5      0    0     0\n",
       "820-824                0      0    1     0\n",
       "830-834                1      0    0     0"
      ]
     },
     "execution_count": 41,
     "metadata": {},
     "output_type": "execute_result"
    }
   ],
   "source": [
    "# get the ob_freq_table from the dataset\n",
    "obs_freq = pd.crosstab(df_loans.FICO_Range, df_loans.Home_Ownership)\n",
    "obs_freq"
   ]
  },
  {
   "cell_type": "markdown",
   "id": "d9743e21",
   "metadata": {},
   "source": [
    "##### Since we have to find out the relationship between two categorical variables (i.e. FICO_Range and Home_Ownership) we will go with Chi Square Test"
   ]
  },
  {
   "cell_type": "markdown",
   "id": "e7d102b1",
   "metadata": {},
   "source": [
    "### Chi-Square Test"
   ]
  },
  {
   "cell_type": "markdown",
   "id": "18e4b3cc",
   "metadata": {},
   "source": [
    "#### Step 1: Hypothesis"
   ]
  },
  {
   "cell_type": "markdown",
   "id": "c60dcd7e",
   "metadata": {},
   "source": [
    "                    Null hypothesis: There is no relationship between the FICO_Range and Home_Ownership.\n",
    "                    Alternative hypothesis: There is an association between the FICO_Range and Home_Ownership."
   ]
  },
  {
   "cell_type": "markdown",
   "id": "0d3ca23f",
   "metadata": {},
   "source": [
    "#### Step 2: Criteria for Decision\n",
    "\n",
    "                alpha = 0.05\n",
    "                Accept null hypothesis if p-value is greater than alpha\n",
    "                Reject null hypothesis if p-value is less than alpha"
   ]
  },
  {
   "cell_type": "markdown",
   "id": "78528783",
   "metadata": {},
   "source": [
    "#### Step 3: Calculating the Test Statistics and P-value    "
   ]
  },
  {
   "cell_type": "code",
   "execution_count": 42,
   "id": "62c7ebfb",
   "metadata": {
    "scrolled": true
   },
   "outputs": [],
   "source": [
    "alpha = 0.05\n",
    "chi2, pvalue, dof, expected = stats.chi2_contingency( obs_freq )"
   ]
  },
  {
   "cell_type": "markdown",
   "id": "2ae1b21b",
   "metadata": {},
   "source": [
    "#### Step 4: Making Decision"
   ]
  },
  {
   "cell_type": "code",
   "execution_count": 43,
   "id": "25cfae85",
   "metadata": {},
   "outputs": [
    {
     "name": "stdout",
     "output_type": "stream",
     "text": [
      "Alpha: 0.05 \n",
      "Chi-Score: 269.7881202757335 \n",
      "P-value: 3.087547281383599e-15 \n",
      "dof: 111 \n",
      "Expected: [[2.29796933e+00 1.03605470e-02 3.91628678e-01 2.30004144e+00]\n",
      " [1.37878160e+00 6.21632822e-03 2.34977207e-01 1.38002487e+00]\n",
      " [4.59593867e-01 2.07210941e-03 7.83257356e-02 4.60008288e-01]\n",
      " [1.83837547e+00 8.28843763e-03 3.13302942e-01 1.84003315e+00]\n",
      " [5.42320763e+01 2.44508910e-01 9.24243680e+00 5.42809780e+01]\n",
      " [6.34239536e+01 2.85951098e-01 1.08089515e+01 6.34811438e+01]\n",
      " [7.67521757e+01 3.46042271e-01 1.30803978e+01 7.68213842e+01]\n",
      " [7.39946125e+01 3.33609615e-01 1.26104434e+01 7.40613344e+01]\n",
      " [7.21562370e+01 3.25321177e-01 1.22971405e+01 7.22213013e+01]\n",
      " [5.88280149e+01 2.65230004e-01 1.00256942e+01 5.88810609e+01]\n",
      " [6.20451720e+01 2.79734770e-01 1.05739743e+01 6.21011189e+01]\n",
      " [6.71007045e+01 3.02527973e-01 1.14355574e+01 6.71612101e+01]\n",
      " [5.69896395e+01 2.56941567e-01 9.71239121e+00 5.70410278e+01]\n",
      " [6.02067965e+01 2.71446332e-01 1.02606714e+01 6.02610858e+01]\n",
      " [4.91765437e+01 2.21715707e-01 8.38085371e+00 4.92208869e+01]\n",
      " [4.22826357e+01 1.90634065e-01 7.20596768e+00 4.23207625e+01]\n",
      " [4.96361376e+01 2.23787816e-01 8.45917944e+00 4.96808952e+01]\n",
      " [4.18230419e+01 1.88561956e-01 7.12764194e+00 4.18607542e+01]\n",
      " [4.32018235e+01 1.94778284e-01 7.36261915e+00 4.32407791e+01]\n",
      " [2.98736013e+01 1.34687111e-01 5.09117281e+00 2.99005387e+01]\n",
      " [2.29796933e+01 1.03605470e-01 3.91628678e+00 2.30004144e+01]\n",
      " [2.48180688e+01 1.11893908e-01 4.22958972e+00 2.48404476e+01]\n",
      " [2.75756320e+01 1.24326564e-01 4.69954414e+00 2.76004973e+01]\n",
      " [2.02221301e+01 9.11728139e-02 3.44633237e+00 2.02403647e+01]\n",
      " [2.06817240e+01 9.32449233e-02 3.52465810e+00 2.07003730e+01]\n",
      " [1.47070037e+01 6.63075010e-02 2.50642354e+00 1.47202652e+01]\n",
      " [7.81309573e+00 3.52258599e-02 1.33153751e+00 7.82014090e+00]\n",
      " [1.01110651e+01 4.55864070e-02 1.72316618e+00 1.01201823e+01]\n",
      " [1.19494405e+01 5.38748446e-02 2.03646913e+00 1.19602155e+01]\n",
      " [7.81309573e+00 3.52258599e-02 1.33153751e+00 7.82014090e+00]\n",
      " [9.19187733e+00 4.14421881e-02 1.56651471e+00 9.20016577e+00]\n",
      " [5.97472027e+00 2.69374223e-02 1.01823456e+00 5.98010775e+00]\n",
      " [5.51512640e+00 2.48653129e-02 9.39908827e-01 5.52009946e+00]\n",
      " [5.05553253e+00 2.27932035e-02 8.61583092e-01 5.06009117e+00]\n",
      " [3.67675093e+00 1.65768753e-02 6.26605885e-01 3.68006631e+00]\n",
      " [2.29796933e+00 1.03605470e-02 3.91628678e-01 2.30004144e+00]\n",
      " [4.59593867e-01 2.07210941e-03 7.83257356e-02 4.60008288e-01]\n",
      " [4.59593867e-01 2.07210941e-03 7.83257356e-02 4.60008288e-01]]\n",
      "Decision: Reject Null Hypothesis as p-value is less than alpha.  There is an association between the FICO_Range and Home_Ownership.\n"
     ]
    }
   ],
   "source": [
    "print(f'Alpha: {alpha} \\nChi-Score: {chi2} \\nP-value: {pvalue} \\ndof: {dof} \\nExpected: {expected}')\n",
    "if pvalue > alpha:\n",
    "    print('Decision: Accept Null Hypothesis as p-value is greater than alpha. There is no relationship between the FICO_Range and Home_Ownership.')\n",
    "else:\n",
    "    print('Decision: Reject Null Hypothesis as p-value is less than alpha.  There is an association between the FICO_Range and Home_Ownership.')"
   ]
  },
  {
   "cell_type": "markdown",
   "id": "d14f81f7",
   "metadata": {},
   "source": [
    "#### Step 5: Business Implications\n",
    "With 95% confidence we can say that the there is a relationship between FICO_Range and Home_Ownership."
   ]
  },
  {
   "cell_type": "markdown",
   "id": "6de333ad",
   "metadata": {},
   "source": [
    "## -------------------------------------------------       BUSINESS PROBLEM 2        -----------------------------------------------"
   ]
  },
  {
   "cell_type": "markdown",
   "id": "216227b7",
   "metadata": {},
   "source": [
    "##### Assess if there is any difference in the average price quotes provided by Mary and Barry"
   ]
  },
  {
   "cell_type": "raw",
   "id": "84afa971",
   "metadata": {},
   "source": [
    "# perform the test\n",
    "print( stats.ttest_rel( price_quotes.Barry_Price, price_quotes.Mary_Price ) )\n",
    "\n",
    "ttest-rel() is a paired t-test that is used to compare the dependent sets of data. \n",
    "ttest_1samp() is used to compare the mean of one group against some unique value.\n",
    "The ttest_ind() is an unpaired t-test that is used to compare two independent sets of data"
   ]
  },
  {
   "cell_type": "code",
   "execution_count": 44,
   "id": "e500215a",
   "metadata": {},
   "outputs": [],
   "source": [
    "#Importing data\n",
    "\n",
    "price_quotes = pd.read_csv('C:/Users/ACER PC/Desktop/ANALYTIX_LAB/Python Class Notes/Basic Statistics - Hypothesis Testing/Price_Quotes.csv')"
   ]
  },
  {
   "cell_type": "code",
   "execution_count": 45,
   "id": "cde865c4",
   "metadata": {},
   "outputs": [
    {
     "data": {
      "text/html": [
       "<div>\n",
       "<style scoped>\n",
       "    .dataframe tbody tr th:only-of-type {\n",
       "        vertical-align: middle;\n",
       "    }\n",
       "\n",
       "    .dataframe tbody tr th {\n",
       "        vertical-align: top;\n",
       "    }\n",
       "\n",
       "    .dataframe thead th {\n",
       "        text-align: right;\n",
       "    }\n",
       "</style>\n",
       "<table border=\"1\" class=\"dataframe\">\n",
       "  <thead>\n",
       "    <tr style=\"text-align: right;\">\n",
       "      <th></th>\n",
       "      <th>Order_Number</th>\n",
       "      <th>Barry_Price</th>\n",
       "      <th>Mary_Price</th>\n",
       "    </tr>\n",
       "  </thead>\n",
       "  <tbody>\n",
       "    <tr>\n",
       "      <th>0</th>\n",
       "      <td>1</td>\n",
       "      <td>126</td>\n",
       "      <td>114</td>\n",
       "    </tr>\n",
       "    <tr>\n",
       "      <th>1</th>\n",
       "      <td>2</td>\n",
       "      <td>110</td>\n",
       "      <td>118</td>\n",
       "    </tr>\n",
       "    <tr>\n",
       "      <th>2</th>\n",
       "      <td>3</td>\n",
       "      <td>138</td>\n",
       "      <td>114</td>\n",
       "    </tr>\n",
       "    <tr>\n",
       "      <th>3</th>\n",
       "      <td>4</td>\n",
       "      <td>142</td>\n",
       "      <td>111</td>\n",
       "    </tr>\n",
       "    <tr>\n",
       "      <th>4</th>\n",
       "      <td>5</td>\n",
       "      <td>146</td>\n",
       "      <td>129</td>\n",
       "    </tr>\n",
       "    <tr>\n",
       "      <th>5</th>\n",
       "      <td>6</td>\n",
       "      <td>136</td>\n",
       "      <td>119</td>\n",
       "    </tr>\n",
       "    <tr>\n",
       "      <th>6</th>\n",
       "      <td>7</td>\n",
       "      <td>94</td>\n",
       "      <td>97</td>\n",
       "    </tr>\n",
       "    <tr>\n",
       "      <th>7</th>\n",
       "      <td>8</td>\n",
       "      <td>103</td>\n",
       "      <td>104</td>\n",
       "    </tr>\n",
       "    <tr>\n",
       "      <th>8</th>\n",
       "      <td>9</td>\n",
       "      <td>140</td>\n",
       "      <td>127</td>\n",
       "    </tr>\n",
       "    <tr>\n",
       "      <th>9</th>\n",
       "      <td>10</td>\n",
       "      <td>152</td>\n",
       "      <td>133</td>\n",
       "    </tr>\n",
       "    <tr>\n",
       "      <th>10</th>\n",
       "      <td>11</td>\n",
       "      <td>108</td>\n",
       "      <td>103</td>\n",
       "    </tr>\n",
       "    <tr>\n",
       "      <th>11</th>\n",
       "      <td>12</td>\n",
       "      <td>97</td>\n",
       "      <td>108</td>\n",
       "    </tr>\n",
       "  </tbody>\n",
       "</table>\n",
       "</div>"
      ],
      "text/plain": [
       "    Order_Number  Barry_Price  Mary_Price\n",
       "0              1          126         114\n",
       "1              2          110         118\n",
       "2              3          138         114\n",
       "3              4          142         111\n",
       "4              5          146         129\n",
       "5              6          136         119\n",
       "6              7           94          97\n",
       "7              8          103         104\n",
       "8              9          140         127\n",
       "9             10          152         133\n",
       "10            11          108         103\n",
       "11            12           97         108"
      ]
     },
     "execution_count": 45,
     "metadata": {},
     "output_type": "execute_result"
    }
   ],
   "source": [
    "price_quotes"
   ]
  },
  {
   "cell_type": "code",
   "execution_count": 46,
   "id": "96390c7d",
   "metadata": {},
   "outputs": [
    {
     "data": {
      "text/html": [
       "<div>\n",
       "<style scoped>\n",
       "    .dataframe tbody tr th:only-of-type {\n",
       "        vertical-align: middle;\n",
       "    }\n",
       "\n",
       "    .dataframe tbody tr th {\n",
       "        vertical-align: top;\n",
       "    }\n",
       "\n",
       "    .dataframe thead th {\n",
       "        text-align: right;\n",
       "    }\n",
       "</style>\n",
       "<table border=\"1\" class=\"dataframe\">\n",
       "  <thead>\n",
       "    <tr style=\"text-align: right;\">\n",
       "      <th></th>\n",
       "      <th>Order_Number</th>\n",
       "      <th>Barry_Price</th>\n",
       "      <th>Mary_Price</th>\n",
       "    </tr>\n",
       "  </thead>\n",
       "  <tbody>\n",
       "    <tr>\n",
       "      <th>count</th>\n",
       "      <td>12.000000</td>\n",
       "      <td>12.000000</td>\n",
       "      <td>12.000000</td>\n",
       "    </tr>\n",
       "    <tr>\n",
       "      <th>mean</th>\n",
       "      <td>6.500000</td>\n",
       "      <td>124.333333</td>\n",
       "      <td>114.750000</td>\n",
       "    </tr>\n",
       "    <tr>\n",
       "      <th>std</th>\n",
       "      <td>3.605551</td>\n",
       "      <td>20.698412</td>\n",
       "      <td>11.054616</td>\n",
       "    </tr>\n",
       "    <tr>\n",
       "      <th>min</th>\n",
       "      <td>1.000000</td>\n",
       "      <td>94.000000</td>\n",
       "      <td>97.000000</td>\n",
       "    </tr>\n",
       "    <tr>\n",
       "      <th>25%</th>\n",
       "      <td>3.750000</td>\n",
       "      <td>106.750000</td>\n",
       "      <td>107.000000</td>\n",
       "    </tr>\n",
       "    <tr>\n",
       "      <th>50%</th>\n",
       "      <td>6.500000</td>\n",
       "      <td>131.000000</td>\n",
       "      <td>114.000000</td>\n",
       "    </tr>\n",
       "    <tr>\n",
       "      <th>75%</th>\n",
       "      <td>9.250000</td>\n",
       "      <td>140.500000</td>\n",
       "      <td>121.000000</td>\n",
       "    </tr>\n",
       "    <tr>\n",
       "      <th>max</th>\n",
       "      <td>12.000000</td>\n",
       "      <td>152.000000</td>\n",
       "      <td>133.000000</td>\n",
       "    </tr>\n",
       "  </tbody>\n",
       "</table>\n",
       "</div>"
      ],
      "text/plain": [
       "       Order_Number  Barry_Price  Mary_Price\n",
       "count     12.000000    12.000000   12.000000\n",
       "mean       6.500000   124.333333  114.750000\n",
       "std        3.605551    20.698412   11.054616\n",
       "min        1.000000    94.000000   97.000000\n",
       "25%        3.750000   106.750000  107.000000\n",
       "50%        6.500000   131.000000  114.000000\n",
       "75%        9.250000   140.500000  121.000000\n",
       "max       12.000000   152.000000  133.000000"
      ]
     },
     "execution_count": 46,
     "metadata": {},
     "output_type": "execute_result"
    }
   ],
   "source": [
    "price_quotes.describe()"
   ]
  },
  {
   "cell_type": "code",
   "execution_count": 47,
   "id": "dcea6a47",
   "metadata": {},
   "outputs": [
    {
     "data": {
      "text/plain": [
       "<AxesSubplot: xlabel='Order_Number'>"
      ]
     },
     "execution_count": 47,
     "metadata": {},
     "output_type": "execute_result"
    },
    {
     "data": {
      "image/png": "[encoded data removed]",
      "text/plain": [
       "<Figure size 640x480 with 1 Axes>"
      ]
     },
     "metadata": {},
     "output_type": "display_data"
    }
   ],
   "source": [
    "price_quotes.set_index(\"Order_Number\").plot(kind=\"bar\")"
   ]
  },
  {
   "cell_type": "markdown",
   "id": "5e0f6990",
   "metadata": {},
   "source": [
    "#### We see that Mary's average price quote is lower than Barry's average quote. But, comparing averages ignores sampling error.Thus, whetherMary's average quote is statistically lower than Barry's requires further investigation."
   ]
  },
  {
   "cell_type": "markdown",
   "id": "8d11d4c6",
   "metadata": {},
   "source": [
    "#### Also in reality, we are not concerned with how Marry's or Barry's quotes vary from order-to-order. What we really want to know is by how much Mary's quote for an order differs from Barry's quote for the same order. So instead of looking at the individual price columns in the data set, we might compute a new variable, *Difference* and compute a confidence interval for the average Difference."
   ]
  },
  {
   "cell_type": "code",
   "execution_count": 48,
   "id": "c9f13547",
   "metadata": {},
   "outputs": [],
   "source": [
    "price_quotes['Quote_Difference'] = price_quotes.Barry_Price - price_quotes.Mary_Price"
   ]
  },
  {
   "cell_type": "code",
   "execution_count": 49,
   "id": "e48af0fb",
   "metadata": {},
   "outputs": [
    {
     "data": {
      "text/html": [
       "<div>\n",
       "<style scoped>\n",
       "    .dataframe tbody tr th:only-of-type {\n",
       "        vertical-align: middle;\n",
       "    }\n",
       "\n",
       "    .dataframe tbody tr th {\n",
       "        vertical-align: top;\n",
       "    }\n",
       "\n",
       "    .dataframe thead th {\n",
       "        text-align: right;\n",
       "    }\n",
       "</style>\n",
       "<table border=\"1\" class=\"dataframe\">\n",
       "  <thead>\n",
       "    <tr style=\"text-align: right;\">\n",
       "      <th></th>\n",
       "      <th>Order_Number</th>\n",
       "      <th>Barry_Price</th>\n",
       "      <th>Mary_Price</th>\n",
       "      <th>Quote_Difference</th>\n",
       "    </tr>\n",
       "  </thead>\n",
       "  <tbody>\n",
       "    <tr>\n",
       "      <th>0</th>\n",
       "      <td>1</td>\n",
       "      <td>126</td>\n",
       "      <td>114</td>\n",
       "      <td>12</td>\n",
       "    </tr>\n",
       "    <tr>\n",
       "      <th>1</th>\n",
       "      <td>2</td>\n",
       "      <td>110</td>\n",
       "      <td>118</td>\n",
       "      <td>-8</td>\n",
       "    </tr>\n",
       "    <tr>\n",
       "      <th>2</th>\n",
       "      <td>3</td>\n",
       "      <td>138</td>\n",
       "      <td>114</td>\n",
       "      <td>24</td>\n",
       "    </tr>\n",
       "    <tr>\n",
       "      <th>3</th>\n",
       "      <td>4</td>\n",
       "      <td>142</td>\n",
       "      <td>111</td>\n",
       "      <td>31</td>\n",
       "    </tr>\n",
       "    <tr>\n",
       "      <th>4</th>\n",
       "      <td>5</td>\n",
       "      <td>146</td>\n",
       "      <td>129</td>\n",
       "      <td>17</td>\n",
       "    </tr>\n",
       "    <tr>\n",
       "      <th>5</th>\n",
       "      <td>6</td>\n",
       "      <td>136</td>\n",
       "      <td>119</td>\n",
       "      <td>17</td>\n",
       "    </tr>\n",
       "    <tr>\n",
       "      <th>6</th>\n",
       "      <td>7</td>\n",
       "      <td>94</td>\n",
       "      <td>97</td>\n",
       "      <td>-3</td>\n",
       "    </tr>\n",
       "    <tr>\n",
       "      <th>7</th>\n",
       "      <td>8</td>\n",
       "      <td>103</td>\n",
       "      <td>104</td>\n",
       "      <td>-1</td>\n",
       "    </tr>\n",
       "    <tr>\n",
       "      <th>8</th>\n",
       "      <td>9</td>\n",
       "      <td>140</td>\n",
       "      <td>127</td>\n",
       "      <td>13</td>\n",
       "    </tr>\n",
       "    <tr>\n",
       "      <th>9</th>\n",
       "      <td>10</td>\n",
       "      <td>152</td>\n",
       "      <td>133</td>\n",
       "      <td>19</td>\n",
       "    </tr>\n",
       "    <tr>\n",
       "      <th>10</th>\n",
       "      <td>11</td>\n",
       "      <td>108</td>\n",
       "      <td>103</td>\n",
       "      <td>5</td>\n",
       "    </tr>\n",
       "    <tr>\n",
       "      <th>11</th>\n",
       "      <td>12</td>\n",
       "      <td>97</td>\n",
       "      <td>108</td>\n",
       "      <td>-11</td>\n",
       "    </tr>\n",
       "  </tbody>\n",
       "</table>\n",
       "</div>"
      ],
      "text/plain": [
       "    Order_Number  Barry_Price  Mary_Price  Quote_Difference\n",
       "0              1          126         114                12\n",
       "1              2          110         118                -8\n",
       "2              3          138         114                24\n",
       "3              4          142         111                31\n",
       "4              5          146         129                17\n",
       "5              6          136         119                17\n",
       "6              7           94          97                -3\n",
       "7              8          103         104                -1\n",
       "8              9          140         127                13\n",
       "9             10          152         133                19\n",
       "10            11          108         103                 5\n",
       "11            12           97         108               -11"
      ]
     },
     "execution_count": 49,
     "metadata": {},
     "output_type": "execute_result"
    }
   ],
   "source": [
    "price_quotes"
   ]
  },
  {
   "cell_type": "code",
   "execution_count": 50,
   "id": "af98e585",
   "metadata": {},
   "outputs": [
    {
     "name": "stdout",
     "output_type": "stream",
     "text": [
      "Average of the Difference in the price quote is 9.583333333333334\n"
     ]
    }
   ],
   "source": [
    "print('Average of the Difference in the price quote is', price_quotes.Quote_Difference.mean())"
   ]
  },
  {
   "cell_type": "markdown",
   "id": "27625193",
   "metadata": {},
   "source": [
    "#### So average of the Difference is not equal to zero. We will conduct a formal hypothesis test to determine whether the average Difference is statistically different from Zero. Since we are testing for differences between paired values, this is special case of a One Sample t-Test known as a Paired t-Test."
   ]
  },
  {
   "cell_type": "markdown",
   "id": "a669cac2",
   "metadata": {},
   "source": [
    "### Paired Sample t-Test or Relational T-Test"
   ]
  },
  {
   "cell_type": "markdown",
   "id": "e8339e9c",
   "metadata": {},
   "source": [
    "#### Step 1: Hypothesis"
   ]
  },
  {
   "cell_type": "markdown",
   "id": "2c5f7c44",
   "metadata": {},
   "source": [
    "                    Null hypothesis: All the samples are from SAME population, means are EQUAL\n",
    "                    Alternative hypothesis: Samples are from DIFFERENT population, means are UNEQUAL"
   ]
  },
  {
   "cell_type": "markdown",
   "id": "bc0323c4",
   "metadata": {},
   "source": [
    "#### Step 2: Criteria for Decision"
   ]
  },
  {
   "cell_type": "markdown",
   "id": "d60f51ad",
   "metadata": {},
   "source": [
    "                    alpha = 0.05\n",
    "                    Accept null hypothesis if p-value is greater than alpha\n",
    "                    Reject null hypothesis if p-value is less than alpha"
   ]
  },
  {
   "cell_type": "markdown",
   "id": "af89c3ef",
   "metadata": {},
   "source": [
    "#### Step 3: Calculating Test Statistic and P-value"
   ]
  },
  {
   "cell_type": "code",
   "execution_count": 51,
   "id": "6fc15df5",
   "metadata": {},
   "outputs": [],
   "source": [
    "# perform the test\n",
    "alpha = 0.05\n",
    "statistic, pvalue = stats.ttest_rel(price_quotes.Barry_Price,price_quotes.Mary_Price)"
   ]
  },
  {
   "cell_type": "markdown",
   "id": "27e6f18b",
   "metadata": {},
   "source": [
    "#### Step 4: Making Decision"
   ]
  },
  {
   "cell_type": "code",
   "execution_count": 52,
   "id": "5e0f3f05",
   "metadata": {
    "scrolled": false
   },
   "outputs": [
    {
     "name": "stdout",
     "output_type": "stream",
     "text": [
      "Alpha: 0.05 \n",
      "T-statistic: 2.5213765108923494 \n",
      "P-value: 0.02840588045242053\n",
      "Decision: Reject Null Hypothesis as p-value is less than alpha.  Hence the samples are NOT from the SAME population\n"
     ]
    }
   ],
   "source": [
    "print(f'Alpha: {alpha} \\nT-statistic: {statistic} \\nP-value: {pvalue}')\n",
    "if pvalue > alpha:\n",
    "    print('Decision: Accept Null Hypothesis as p-value is greater than alpha. Hence the samples are from the SAME population')\n",
    "else: \n",
    "    print('Decision: Reject Null Hypothesis as p-value is less than alpha.  Hence the samples are NOT from the SAME population')"
   ]
  },
  {
   "cell_type": "raw",
   "id": "45a98327",
   "metadata": {},
   "source": [
    "Note: The P-value is very close to 0.05. If we change the alpha to 0.01 then we cannot reject the Null Hypothesis. So it depends on the client/Business requirement how much accuracy they require in the prediction."
   ]
  },
  {
   "cell_type": "markdown",
   "id": "70b1c811",
   "metadata": {},
   "source": [
    "#### Step 5: Business Implications\n",
    "    With 95% confidence we can say that the average price quoted by Barry and Mary are different. A first step in improving the pricing process would be to explore these differences.Do they use different tools, software or calculations to prepare their quotes? Do they have more difficulty with some quotes than with others? Is additional training required? Are there opportunities to simplify and standardize the process? Are they using best pricing practices?"
   ]
  },
  {
   "cell_type": "markdown",
   "id": "b5ac3b7b",
   "metadata": {},
   "source": [
    "## --------------------------------------------       BUSINESS PROBLEM 3        ---------------------------------------------"
   ]
  },
  {
   "cell_type": "markdown",
   "id": "29fbd65e",
   "metadata": {},
   "source": [
    "####  Determine what effect, if any, the reengineering effort had on the incidence behavioral problems and staff turnover. i.e To determine if the reengineering effort changed the critical incidence rate. Is there evidence that the critical incidence rate improved?"
   ]
  },
  {
   "cell_type": "code",
   "execution_count": 53,
   "id": "2983fda9",
   "metadata": {},
   "outputs": [],
   "source": [
    "treatment = pd.read_csv('C:/Users/ACER PC/Desktop/ANALYTIX_LAB/Python Class Notes/Basic Statistics - Hypothesis Testing/Treatment_Facility.csv')"
   ]
  },
  {
   "cell_type": "code",
   "execution_count": 54,
   "id": "c6ae99a4",
   "metadata": {},
   "outputs": [
    {
     "data": {
      "text/html": [
       "<div>\n",
       "<style scoped>\n",
       "    .dataframe tbody tr th:only-of-type {\n",
       "        vertical-align: middle;\n",
       "    }\n",
       "\n",
       "    .dataframe tbody tr th {\n",
       "        vertical-align: top;\n",
       "    }\n",
       "\n",
       "    .dataframe thead th {\n",
       "        text-align: right;\n",
       "    }\n",
       "</style>\n",
       "<table border=\"1\" class=\"dataframe\">\n",
       "  <thead>\n",
       "    <tr style=\"text-align: right;\">\n",
       "      <th></th>\n",
       "      <th>Month</th>\n",
       "      <th>Reengineer</th>\n",
       "      <th>Employee_Turnover</th>\n",
       "      <th>VAR4</th>\n",
       "      <th>VAR5</th>\n",
       "    </tr>\n",
       "  </thead>\n",
       "  <tbody>\n",
       "    <tr>\n",
       "      <th>0</th>\n",
       "      <td>1</td>\n",
       "      <td>Prior</td>\n",
       "      <td>0.0000</td>\n",
       "      <td>24.390244</td>\n",
       "      <td>42.682927</td>\n",
       "    </tr>\n",
       "    <tr>\n",
       "      <th>1</th>\n",
       "      <td>2</td>\n",
       "      <td>Prior</td>\n",
       "      <td>6.0606</td>\n",
       "      <td>19.354839</td>\n",
       "      <td>25.806452</td>\n",
       "    </tr>\n",
       "    <tr>\n",
       "      <th>2</th>\n",
       "      <td>3</td>\n",
       "      <td>Prior</td>\n",
       "      <td>12.1212</td>\n",
       "      <td>35.087719</td>\n",
       "      <td>146.198830</td>\n",
       "    </tr>\n",
       "    <tr>\n",
       "      <th>3</th>\n",
       "      <td>4</td>\n",
       "      <td>Prior</td>\n",
       "      <td>3.3333</td>\n",
       "      <td>18.404908</td>\n",
       "      <td>110.429448</td>\n",
       "    </tr>\n",
       "    <tr>\n",
       "      <th>4</th>\n",
       "      <td>5</td>\n",
       "      <td>Prior</td>\n",
       "      <td>12.9032</td>\n",
       "      <td>17.964072</td>\n",
       "      <td>23.952096</td>\n",
       "    </tr>\n",
       "  </tbody>\n",
       "</table>\n",
       "</div>"
      ],
      "text/plain": [
       "   Month Reengineer  Employee_Turnover       VAR4        VAR5\n",
       "0      1      Prior             0.0000  24.390244   42.682927\n",
       "1      2      Prior             6.0606  19.354839   25.806452\n",
       "2      3      Prior            12.1212  35.087719  146.198830\n",
       "3      4      Prior             3.3333  18.404908  110.429448\n",
       "4      5      Prior            12.9032  17.964072   23.952096"
      ]
     },
     "execution_count": 54,
     "metadata": {},
     "output_type": "execute_result"
    }
   ],
   "source": [
    "treatment.head()"
   ]
  },
  {
   "cell_type": "code",
   "execution_count": 55,
   "id": "fada923b",
   "metadata": {},
   "outputs": [
    {
     "name": "stdout",
     "output_type": "stream",
     "text": [
      "<class 'pandas.core.frame.DataFrame'>\n",
      "RangeIndex: 20 entries, 0 to 19\n",
      "Data columns (total 5 columns):\n",
      " #   Column             Non-Null Count  Dtype  \n",
      "---  ------             --------------  -----  \n",
      " 0   Month              20 non-null     int64  \n",
      " 1   Reengineer         20 non-null     object \n",
      " 2   Employee_Turnover  20 non-null     float64\n",
      " 3   VAR4               20 non-null     float64\n",
      " 4   VAR5               20 non-null     float64\n",
      "dtypes: float64(3), int64(1), object(1)\n",
      "memory usage: 928.0+ bytes\n"
     ]
    }
   ],
   "source": [
    "treatment.info()"
   ]
  },
  {
   "cell_type": "code",
   "execution_count": 56,
   "id": "3dba3117",
   "metadata": {},
   "outputs": [],
   "source": [
    "#renaming columns\n",
    "treatment.rename( columns={'VAR4':'TRFF(%)','VAR5':'CI(%)'}, inplace=True)"
   ]
  },
  {
   "cell_type": "code",
   "execution_count": 57,
   "id": "e7c88cfa",
   "metadata": {},
   "outputs": [
    {
     "data": {
      "text/plain": [
       "Month                0\n",
       "Reengineer           0\n",
       "Employee_Turnover    0\n",
       "TRFF(%)              0\n",
       "CI(%)                0\n",
       "dtype: int64"
      ]
     },
     "execution_count": 57,
     "metadata": {},
     "output_type": "execute_result"
    }
   ],
   "source": [
    "#Checking for missing values\n",
    "treatment.isnull().sum()"
   ]
  },
  {
   "cell_type": "code",
   "execution_count": 58,
   "id": "9c86f0ee",
   "metadata": {},
   "outputs": [],
   "source": [
    "#samples for pre and post Reengineering phase \n",
    "pre = treatment.loc[ treatment.Reengineer == 'Prior', 'CI(%)' ]\n",
    "post = treatment.loc[ treatment.Reengineer == 'Post', 'CI(%)' ]"
   ]
  },
  {
   "cell_type": "code",
   "execution_count": 59,
   "id": "56331ea3",
   "metadata": {},
   "outputs": [
    {
     "name": "stdout",
     "output_type": "stream",
     "text": [
      "mean of pre-engineering Phase: 53.9 | mean of post-engineering Phase: 23.3\n"
     ]
    }
   ],
   "source": [
    "# print the avg/mean of two samples\n",
    "print( 'mean of pre-engineering Phase:', round(pre.mean(), 1), \n",
    "          '| mean of post-engineering Phase:', round(post.mean(), 1))"
   ]
  },
  {
   "cell_type": "code",
   "execution_count": 60,
   "id": "bf31f412",
   "metadata": {},
   "outputs": [
    {
     "data": {
      "text/plain": [
       "Text(0.5, 1.0, 'Effect of Reengineering on Critical Incident Rate')"
      ]
     },
     "execution_count": 60,
     "metadata": {},
     "output_type": "execute_result"
    },
    {
     "data": {
      "image/png": "[encoded data removed]",
      "text/plain": [
       "<Figure size 500x300 with 1 Axes>"
      ]
     },
     "metadata": {},
     "output_type": "display_data"
    }
   ],
   "source": [
    "#generate a bar chart for the means\n",
    "bar1 = pd.DataFrame({'Engineering Phase': {0: 'Pre', 1: 'Post'}, \n",
    "                   'Mean': {0: pre.mean(), 1: post.mean()}}) \n",
    "\n",
    "fig = plt.figure(figsize = (5, 3))\n",
    "sns.barplot(x=\"Engineering Phase\", y = 'Mean', data = bar1, width= 0.5 )\n",
    "plt.title(\"Effect of Reengineering on Critical Incident Rate\")"
   ]
  },
  {
   "cell_type": "markdown",
   "id": "4f7be0ee",
   "metadata": {},
   "source": [
    "#### From the bar plot we can see that the Critical incident rates have declined sharply in the post-reenginerring phase. We will confirm this further with the help of hypothesis testing.\n",
    "\n",
    "#### Since variable is continuous in nature and we have to make the comparison between the two independent samples we will perform the Independent sample ttest"
   ]
  },
  {
   "cell_type": "markdown",
   "id": "c238022f",
   "metadata": {},
   "source": [
    "### Independent T-Test"
   ]
  },
  {
   "cell_type": "markdown",
   "id": "018318ae",
   "metadata": {},
   "source": [
    "#### Step 1: Hypothesis"
   ]
  },
  {
   "cell_type": "markdown",
   "id": "29cbb125",
   "metadata": {},
   "source": [
    "                Null hypothesis: pre_CI(%) = Post_CI(%) i.e. All the samples are from SAME population, means are EQUAL\n",
    "                Alternative hypothesis: pre_CI(%) <> Post_CI(%) i.e.Samples are from DIFFERENT population, means are UNEQUAL"
   ]
  },
  {
   "cell_type": "markdown",
   "id": "8b035835",
   "metadata": {},
   "source": [
    "#### Step 2: Criteria for Decision"
   ]
  },
  {
   "cell_type": "markdown",
   "id": "2f7fe758",
   "metadata": {},
   "source": [
    "                    alpha = 0.05\n",
    "                    Accept null hypothesis if p-value is greater than alpha\n",
    "                    Reject null hypothesis if p-value is less than alpha"
   ]
  },
  {
   "cell_type": "markdown",
   "id": "c3ea33c9",
   "metadata": {},
   "source": [
    "#### Step 3: Calculating Test Statistic and P-value"
   ]
  },
  {
   "cell_type": "code",
   "execution_count": 61,
   "id": "927a051c",
   "metadata": {},
   "outputs": [],
   "source": [
    "# perform the test\n",
    "alpha = 0.05\n",
    "statistic, pvalue = stats.ttest_ind( pre, post )"
   ]
  },
  {
   "cell_type": "markdown",
   "id": "b4ec69c6",
   "metadata": {},
   "source": [
    "#### Step 4: Making Decision"
   ]
  },
  {
   "cell_type": "code",
   "execution_count": 62,
   "id": "9b575558",
   "metadata": {
    "scrolled": false
   },
   "outputs": [
    {
     "name": "stdout",
     "output_type": "stream",
     "text": [
      "Alpha: 0.05 \n",
      "T-statistic: 1.627914425352865 \n",
      "P-value: 0.12091989189884148\n",
      "Decision: Accept Null Hypothesis as p-value is greater than alpha. Hence the samples are from the SAME population\n"
     ]
    }
   ],
   "source": [
    "print(f'Alpha: {alpha} \\nT-statistic: {statistic} \\nP-value: {pvalue}')\n",
    "if pvalue > alpha:\n",
    "    print('Decision: Accept Null Hypothesis as p-value is greater than alpha. Hence the samples are from the SAME population')\n",
    "else: \n",
    "    print('Decision: Reject Null Hypothesis as p-value is less than alpha.  Hence the samples are NOT from the SAME population')"
   ]
  },
  {
   "cell_type": "markdown",
   "id": "f9fb54a3",
   "metadata": {},
   "source": [
    "##### \n",
    "    Note: The P-value is very close to 0.1. If we change the alpha to greater then 0.1 we can reject the Null Hypothesis. So it depends on the client/Business requirement how much accuracy they require in the prediction."
   ]
  },
  {
   "cell_type": "markdown",
   "id": "eb3d40b3",
   "metadata": {},
   "source": [
    "#### Step 5: Business Implications\n",
    "    WIth the give data we can not say that their is any effect of the reengineering efforts."
   ]
  },
  {
   "cell_type": "markdown",
   "id": "7f272f9b",
   "metadata": {},
   "source": [
    "## --------------------------------------------       BUSINESS PROBLEM 4        ---------------------------------------------"
   ]
  },
  {
   "cell_type": "markdown",
   "id": "6aa44753",
   "metadata": {},
   "source": [
    "### Focus on the prioritization system. If the system is working, then high priority jobs, on average, should be completed more quickly than medium priority jobs, and medium priority jobs should be completed more quickly than low priority jobs."
   ]
  },
  {
   "cell_type": "code",
   "execution_count": 63,
   "id": "b4d35125",
   "metadata": {},
   "outputs": [],
   "source": [
    "assessment = pd.read_csv('C:/Users/ACER PC/Desktop/ANALYTIX_LAB/Python Class Notes/Basic Statistics - Hypothesis Testing/Priority_Assessment.csv')"
   ]
  },
  {
   "cell_type": "code",
   "execution_count": 64,
   "id": "020a5505",
   "metadata": {},
   "outputs": [
    {
     "data": {
      "text/html": [
       "<div>\n",
       "<style scoped>\n",
       "    .dataframe tbody tr th:only-of-type {\n",
       "        vertical-align: middle;\n",
       "    }\n",
       "\n",
       "    .dataframe tbody tr th {\n",
       "        vertical-align: top;\n",
       "    }\n",
       "\n",
       "    .dataframe thead th {\n",
       "        text-align: right;\n",
       "    }\n",
       "</style>\n",
       "<table border=\"1\" class=\"dataframe\">\n",
       "  <thead>\n",
       "    <tr style=\"text-align: right;\">\n",
       "      <th></th>\n",
       "      <th>Days</th>\n",
       "      <th>Priority</th>\n",
       "    </tr>\n",
       "  </thead>\n",
       "  <tbody>\n",
       "    <tr>\n",
       "      <th>0</th>\n",
       "      <td>3.3</td>\n",
       "      <td>High</td>\n",
       "    </tr>\n",
       "    <tr>\n",
       "      <th>1</th>\n",
       "      <td>7.9</td>\n",
       "      <td>Medium</td>\n",
       "    </tr>\n",
       "    <tr>\n",
       "      <th>2</th>\n",
       "      <td>0.3</td>\n",
       "      <td>High</td>\n",
       "    </tr>\n",
       "    <tr>\n",
       "      <th>3</th>\n",
       "      <td>0.7</td>\n",
       "      <td>Medium</td>\n",
       "    </tr>\n",
       "    <tr>\n",
       "      <th>4</th>\n",
       "      <td>8.6</td>\n",
       "      <td>Medium</td>\n",
       "    </tr>\n",
       "  </tbody>\n",
       "</table>\n",
       "</div>"
      ],
      "text/plain": [
       "   Days Priority\n",
       "0   3.3     High\n",
       "1   7.9   Medium\n",
       "2   0.3     High\n",
       "3   0.7   Medium\n",
       "4   8.6   Medium"
      ]
     },
     "execution_count": 64,
     "metadata": {},
     "output_type": "execute_result"
    }
   ],
   "source": [
    "assessment.head()"
   ]
  },
  {
   "cell_type": "code",
   "execution_count": 65,
   "id": "8cae8a12",
   "metadata": {},
   "outputs": [
    {
     "name": "stdout",
     "output_type": "stream",
     "text": [
      "<class 'pandas.core.frame.DataFrame'>\n",
      "RangeIndex: 642 entries, 0 to 641\n",
      "Data columns (total 2 columns):\n",
      " #   Column    Non-Null Count  Dtype  \n",
      "---  ------    --------------  -----  \n",
      " 0   Days      642 non-null    float64\n",
      " 1   Priority  642 non-null    object \n",
      "dtypes: float64(1), object(1)\n",
      "memory usage: 10.2+ KB\n"
     ]
    }
   ],
   "source": [
    "assessment.info()"
   ]
  },
  {
   "cell_type": "code",
   "execution_count": 66,
   "id": "3ddcbc26",
   "metadata": {},
   "outputs": [
    {
     "data": {
      "text/plain": [
       "Days        0\n",
       "Priority    0\n",
       "dtype: int64"
      ]
     },
     "execution_count": 66,
     "metadata": {},
     "output_type": "execute_result"
    }
   ],
   "source": [
    "#Checking for any missing values\n",
    "assessment.isna().sum()"
   ]
  },
  {
   "cell_type": "code",
   "execution_count": 67,
   "id": "2ce4317b",
   "metadata": {},
   "outputs": [],
   "source": [
    "#To check if the system is working we will first segregate the data for hypothesis testing purpose\n",
    "high=assessment[assessment.Priority=='High'].Days\n",
    "medium=assessment[assessment.Priority=='Medium'].Days\n",
    "low=assessment[assessment.Priority=='Low'].Days"
   ]
  },
  {
   "cell_type": "code",
   "execution_count": 68,
   "id": "51e2360c",
   "metadata": {},
   "outputs": [
    {
     "name": "stdout",
     "output_type": "stream",
     "text": [
      "mean of high Priority jobs: 3.0 | mean of medium Priority jobs: 2.5 | mean of low Priority jobs: 4.2\n"
     ]
    }
   ],
   "source": [
    "# print the avg/mean of three samples\n",
    "print( 'mean of high Priority jobs:', round(high.mean(), 1), \n",
    "          '| mean of medium Priority jobs:', round(medium.mean(), 1),\n",
    "             '| mean of low Priority jobs:', round(low.mean(), 1))"
   ]
  },
  {
   "cell_type": "code",
   "execution_count": 69,
   "id": "23727f9e",
   "metadata": {},
   "outputs": [
    {
     "data": {
      "text/plain": [
       "Text(0.5, 1.0, 'Analysis of Job Prioritization System')"
      ]
     },
     "execution_count": 69,
     "metadata": {},
     "output_type": "execute_result"
    },
    {
     "data": {
      "image/png": "[encoded data removed]",
      "text/plain": [
       "<Figure size 700x500 with 1 Axes>"
      ]
     },
     "metadata": {},
     "output_type": "display_data"
    }
   ],
   "source": [
    "#generate a bar chart for the means\n",
    "bar1 = pd.DataFrame({'Job Priority': {0: 'high', 1: 'medium', 2: 'low'}, \n",
    "                   'Average Completion Days': {0: high.mean(), 1: medium.mean(), 2: low.mean()}}) \n",
    "\n",
    "fig = plt.figure(figsize = (7, 5))\n",
    "sns.barplot(x=\"Job Priority\", y = 'Average Completion Days', data = bar1, width= 0.5 )\n",
    "plt.title(\"Analysis of Job Prioritization System\")"
   ]
  },
  {
   "cell_type": "markdown",
   "id": "9e2ab19b",
   "metadata": {},
   "source": [
    "#### From the bar plot we can see that the Job Prioritization system is not working especially in case of high priority jobs. Medium priority jobs are finished before low priority job but high priority jobs average completion time is greater than the medium priority jobs. We will confirm this further with the help of hypothesis testing.\n",
    "\n",
    "#### Since variables are continuous in nature and we have to make the comparison between them we will perform the f-test"
   ]
  },
  {
   "cell_type": "markdown",
   "id": "addfc296",
   "metadata": {},
   "source": [
    "### ANOVA/F-Test\n",
    "\n",
    "#### Step 1: Hypothesis\n",
    "                       Null hypothesis: High, medium and low priority jobs are taking almost same average time i.e.all the \n",
    "                       samples are from SAME population, means are EQUAL\n",
    "                       Alternative hypothesis: High, medium and low priority jobs are taking different average time i.e. \n",
    "                       samples are from DIFFERENT population, means are UNEQUAL\n",
    "#### Step 2: Criteria for Decision\n",
    "                                    alpha = 0.05\n",
    "                                    Accept null hypothesis if p-value is greater than alpha\n",
    "                                    Reject null hypothesis if p-value is less than alpha\n",
    "#### Step 3: Calculating Test Statistics and P-value"
   ]
  },
  {
   "cell_type": "code",
   "execution_count": 70,
   "id": "ef86b5f7",
   "metadata": {},
   "outputs": [],
   "source": [
    "# perform the test\n",
    "s, p = stats.f_oneway( high, medium, low )"
   ]
  },
  {
   "cell_type": "markdown",
   "id": "c83849dc",
   "metadata": {},
   "source": [
    "#### Step 4: Making Decision"
   ]
  },
  {
   "cell_type": "code",
   "execution_count": 71,
   "id": "f097a914",
   "metadata": {},
   "outputs": [
    {
     "name": "stdout",
     "output_type": "stream",
     "text": [
      "Alpha: 0.05 \n",
      "T-statistic: 1.812311010076072 \n",
      "P-value: 0.16411459461716182\n",
      "Decision: Fail to Reject the Null Hypothesis as p-value is greater than alpha. Hence High, medium and low priority jobs are taking almost same average time\n"
     ]
    }
   ],
   "source": [
    "print(f'Alpha: {alpha} \\nT-statistic: {s} \\nP-value: {p}')\n",
    "if p > alpha:\n",
    "    print('Decision: Fail to Reject the Null Hypothesis as p-value is greater than alpha. Hence High, medium and low priority jobs are taking almost same average time')\n",
    "else: \n",
    "    print('Decision: Reject Null Hypothesis as p-value is less than alpha.  Hence High, medium and low priority jobs are taking different average time')"
   ]
  },
  {
   "cell_type": "markdown",
   "id": "d3991e6a",
   "metadata": {},
   "source": [
    "#### Step 5: Business Implications\n",
    "With the given data we cannot say that the prioritization system is working."
   ]
  },
  {
   "cell_type": "markdown",
   "id": "700e4ac2",
   "metadata": {},
   "source": [
    "## --------------------------------------------       BUSINESS PROBLEM 5 ---------------------------------------------"
   ]
  },
  {
   "cell_type": "markdown",
   "id": "f69cda11",
   "metadata": {},
   "source": [
    "##### Use the survey results to address the following questions\n",
    "* What is the overall level of customer satisfaction?\n",
    "* What factors are linked to satisfaction?\n",
    "* What is the demographic profile of Film on the Rocks patrons?\n",
    "* In what media outlet(s) should the film series be advertised?"
   ]
  },
  {
   "cell_type": "code",
   "execution_count": 72,
   "id": "3d2abd7c",
   "metadata": {},
   "outputs": [],
   "source": [
    "#Importing the dataset\n",
    "films = pd.read_csv('C:/Users/ACER PC/Desktop/ANALYTIX_LAB/Python Class Notes/Basic Statistics - Hypothesis Testing/Films.csv')"
   ]
  },
  {
   "cell_type": "code",
   "execution_count": 73,
   "id": "da30699d",
   "metadata": {},
   "outputs": [
    {
     "data": {
      "text/html": [
       "<div>\n",
       "<style scoped>\n",
       "    .dataframe tbody tr th:only-of-type {\n",
       "        vertical-align: middle;\n",
       "    }\n",
       "\n",
       "    .dataframe tbody tr th {\n",
       "        vertical-align: top;\n",
       "    }\n",
       "\n",
       "    .dataframe thead th {\n",
       "        text-align: right;\n",
       "    }\n",
       "</style>\n",
       "<table border=\"1\" class=\"dataframe\">\n",
       "  <thead>\n",
       "    <tr style=\"text-align: right;\">\n",
       "      <th></th>\n",
       "      <th>_rowstate_</th>\n",
       "      <th>Movie</th>\n",
       "      <th>Gender</th>\n",
       "      <th>Marital_Status</th>\n",
       "      <th>Sinage</th>\n",
       "      <th>Parking</th>\n",
       "      <th>Clean</th>\n",
       "      <th>Overall</th>\n",
       "      <th>Age</th>\n",
       "      <th>Income</th>\n",
       "      <th>Hear_About</th>\n",
       "    </tr>\n",
       "  </thead>\n",
       "  <tbody>\n",
       "    <tr>\n",
       "      <th>0</th>\n",
       "      <td>0</td>\n",
       "      <td>Ferris Buellers Day Off</td>\n",
       "      <td>Female</td>\n",
       "      <td>Married</td>\n",
       "      <td>2.0</td>\n",
       "      <td>2.0</td>\n",
       "      <td>2.0</td>\n",
       "      <td>2.0</td>\n",
       "      <td>3.0</td>\n",
       "      <td>1.0</td>\n",
       "      <td>5</td>\n",
       "    </tr>\n",
       "    <tr>\n",
       "      <th>1</th>\n",
       "      <td>0</td>\n",
       "      <td>Ferris Buellers Day Off</td>\n",
       "      <td>Female</td>\n",
       "      <td>Single</td>\n",
       "      <td>1.0</td>\n",
       "      <td>1.0</td>\n",
       "      <td>1.0</td>\n",
       "      <td>1.0</td>\n",
       "      <td>2.0</td>\n",
       "      <td>1.0</td>\n",
       "      <td>5</td>\n",
       "    </tr>\n",
       "    <tr>\n",
       "      <th>2</th>\n",
       "      <td>0</td>\n",
       "      <td>Ferris Buellers Day Off</td>\n",
       "      <td>Male</td>\n",
       "      <td>Married</td>\n",
       "      <td>2.0</td>\n",
       "      <td>4.0</td>\n",
       "      <td>3.0</td>\n",
       "      <td>2.0</td>\n",
       "      <td>4.0</td>\n",
       "      <td>1.0</td>\n",
       "      <td>5</td>\n",
       "    </tr>\n",
       "    <tr>\n",
       "      <th>3</th>\n",
       "      <td>0</td>\n",
       "      <td>Ferris Buellers Day Off</td>\n",
       "      <td>Female</td>\n",
       "      <td>Married</td>\n",
       "      <td>1.0</td>\n",
       "      <td>3.0</td>\n",
       "      <td>2.0</td>\n",
       "      <td>2.0</td>\n",
       "      <td>4.0</td>\n",
       "      <td>1.0</td>\n",
       "      <td>5</td>\n",
       "    </tr>\n",
       "    <tr>\n",
       "      <th>4</th>\n",
       "      <td>0</td>\n",
       "      <td>Ferris Buellers Day Off</td>\n",
       "      <td>Female</td>\n",
       "      <td>Married</td>\n",
       "      <td>1.0</td>\n",
       "      <td>1.0</td>\n",
       "      <td>1.0</td>\n",
       "      <td>1.0</td>\n",
       "      <td>3.0</td>\n",
       "      <td>3.0</td>\n",
       "      <td>1</td>\n",
       "    </tr>\n",
       "  </tbody>\n",
       "</table>\n",
       "</div>"
      ],
      "text/plain": [
       "   _rowstate_                    Movie  Gender Marital_Status  Sinage  \\\n",
       "0           0  Ferris Buellers Day Off  Female        Married     2.0   \n",
       "1           0  Ferris Buellers Day Off  Female         Single     1.0   \n",
       "2           0  Ferris Buellers Day Off    Male        Married     2.0   \n",
       "3           0  Ferris Buellers Day Off  Female        Married     1.0   \n",
       "4           0  Ferris Buellers Day Off  Female        Married     1.0   \n",
       "\n",
       "   Parking  Clean  Overall  Age  Income Hear_About  \n",
       "0      2.0    2.0      2.0  3.0     1.0          5  \n",
       "1      1.0    1.0      1.0  2.0     1.0          5  \n",
       "2      4.0    3.0      2.0  4.0     1.0          5  \n",
       "3      3.0    2.0      2.0  4.0     1.0          5  \n",
       "4      1.0    1.0      1.0  3.0     3.0          1  "
      ]
     },
     "execution_count": 73,
     "metadata": {},
     "output_type": "execute_result"
    }
   ],
   "source": [
    "films.head()"
   ]
  },
  {
   "cell_type": "code",
   "execution_count": 74,
   "id": "23b5b36f",
   "metadata": {},
   "outputs": [
    {
     "name": "stdout",
     "output_type": "stream",
     "text": [
      "<class 'pandas.core.frame.DataFrame'>\n",
      "RangeIndex: 330 entries, 0 to 329\n",
      "Data columns (total 11 columns):\n",
      " #   Column          Non-Null Count  Dtype  \n",
      "---  ------          --------------  -----  \n",
      " 0   _rowstate_      330 non-null    int64  \n",
      " 1   Movie           330 non-null    object \n",
      " 2   Gender          330 non-null    object \n",
      " 3   Marital_Status  328 non-null    object \n",
      " 4   Sinage          328 non-null    float64\n",
      " 5   Parking         328 non-null    float64\n",
      " 6   Clean           327 non-null    float64\n",
      " 7   Overall         328 non-null    float64\n",
      " 8   Age             328 non-null    float64\n",
      " 9   Income          314 non-null    float64\n",
      " 10  Hear_About      323 non-null    object \n",
      "dtypes: float64(6), int64(1), object(4)\n",
      "memory usage: 28.5+ KB\n"
     ]
    }
   ],
   "source": [
    "films.info()"
   ]
  },
  {
   "cell_type": "code",
   "execution_count": 75,
   "id": "5d0c3abe",
   "metadata": {},
   "outputs": [
    {
     "data": {
      "text/plain": [
       "_rowstate_         0\n",
       "Movie              0\n",
       "Gender             0\n",
       "Marital_Status     2\n",
       "Sinage             2\n",
       "Parking            2\n",
       "Clean              3\n",
       "Overall            2\n",
       "Age                2\n",
       "Income            16\n",
       "Hear_About         7\n",
       "dtype: int64"
      ]
     },
     "execution_count": 75,
     "metadata": {},
     "output_type": "execute_result"
    }
   ],
   "source": [
    "#Checking for missing values\n",
    "films.isna().sum()"
   ]
  },
  {
   "cell_type": "code",
   "execution_count": 76,
   "id": "d440e6ba",
   "metadata": {},
   "outputs": [],
   "source": [
    "#missing value imputation\n",
    "for col in films.columns:\n",
    "    films[col].fillna(value = films[col].mode()[0], inplace=True)"
   ]
  },
  {
   "cell_type": "markdown",
   "id": "e346ee4a",
   "metadata": {},
   "source": [
    "##### Encoding of categorical variables"
   ]
  },
  {
   "cell_type": "code",
   "execution_count": 77,
   "id": "4005c8ad",
   "metadata": {},
   "outputs": [
    {
     "data": {
      "text/plain": [
       "2         194\n",
       "1         104\n",
       "Female     19\n",
       "Male       13\n",
       "Name: Gender, dtype: int64"
      ]
     },
     "execution_count": 77,
     "metadata": {},
     "output_type": "execute_result"
    }
   ],
   "source": [
    "films.Gender.value_counts()"
   ]
  },
  {
   "cell_type": "code",
   "execution_count": 78,
   "id": "1b2467a8",
   "metadata": {},
   "outputs": [],
   "source": [
    "#converting males to 1 and females to 2 \n",
    "films['Gender'] = np.where(films.Gender == 'Male', 1, \n",
    "                           np.where(films.Gender == 'Female', 2, \n",
    "                                    np.where(films.Gender == '1', 1, 2)))"
   ]
  },
  {
   "cell_type": "raw",
   "id": "1d6be991",
   "metadata": {},
   "source": [
    "1 is married, 2 is single"
   ]
  },
  {
   "cell_type": "code",
   "execution_count": 79,
   "id": "07bfd94e",
   "metadata": {},
   "outputs": [
    {
     "data": {
      "text/plain": [
       "2          210\n",
       "1           88\n",
       "Single      18\n",
       "Married     12\n",
       "Slngle       2\n",
       "Name: Marital_Status, dtype: int64"
      ]
     },
     "execution_count": 79,
     "metadata": {},
     "output_type": "execute_result"
    }
   ],
   "source": [
    "films.Marital_Status.value_counts()"
   ]
  },
  {
   "cell_type": "code",
   "execution_count": 80,
   "id": "1fea62f3",
   "metadata": {},
   "outputs": [],
   "source": [
    "#correcting Marital Status\n",
    "films['Marital_Status'] = np.where(films.Marital_Status == 'Married', 1, \n",
    "                                   np.where(films.Marital_Status == 'Single', 2, \n",
    "                                            np.where(films.Marital_Status == 'Slngle', 2, \n",
    "                                                     np.where(films.Marital_Status == '1', 1, 2))))"
   ]
  },
  {
   "cell_type": "code",
   "execution_count": 81,
   "id": "816d2bb4",
   "metadata": {},
   "outputs": [
    {
     "data": {
      "text/plain": [
       "2    230\n",
       "1    100\n",
       "Name: Marital_Status, dtype: int64"
      ]
     },
     "execution_count": 81,
     "metadata": {},
     "output_type": "execute_result"
    }
   ],
   "source": [
    "films.Marital_Status.value_counts()"
   ]
  },
  {
   "cell_type": "markdown",
   "id": "3a045b4e",
   "metadata": {},
   "source": [
    "### (a) What is the overall level of customer satisfaction?"
   ]
  },
  {
   "cell_type": "code",
   "execution_count": 82,
   "id": "0771ceac",
   "metadata": {},
   "outputs": [
    {
     "name": "stdout",
     "output_type": "stream",
     "text": [
      "mean: 0.6878262202585181\n",
      "Standard Error: 0.037863587260422576\n",
      "CL: (1.5457873689695718, 1.6942126310304284)\n"
     ]
    }
   ],
   "source": [
    "#Lets check the overall average customer satisfaction at:\n",
    "    #Confidence Level : 95%\n",
    "\n",
    "    #CL: (mean-1.96*std, mean+1.96*std)\n",
    "\n",
    "overall_mean = round(films.Overall.mean(),2)\n",
    "\n",
    "stdev=films.Overall.std()\n",
    "print('mean:', stdev)\n",
    "\n",
    "SE=stdev/np.sqrt(330)\n",
    "print('Standard Error:', SE)\n",
    "\n",
    "CL=(overall_mean-1.96*(SE), overall_mean+1.96*(SE))\n",
    "print('CL:', CL)"
   ]
  },
  {
   "cell_type": "code",
   "execution_count": 83,
   "id": "97b2f46a",
   "metadata": {},
   "outputs": [],
   "source": [
    "#Overall customer satisfaction lies between 1.54 and 1.69 which is good"
   ]
  },
  {
   "cell_type": "markdown",
   "id": "df4fb60b",
   "metadata": {},
   "source": [
    "### (b) What factors are linked to satisfaction?"
   ]
  },
  {
   "cell_type": "code",
   "execution_count": 84,
   "id": "2d4d1a85",
   "metadata": {},
   "outputs": [
    {
     "data": {
      "text/html": [
       "<div>\n",
       "<style scoped>\n",
       "    .dataframe tbody tr th:only-of-type {\n",
       "        vertical-align: middle;\n",
       "    }\n",
       "\n",
       "    .dataframe tbody tr th {\n",
       "        vertical-align: top;\n",
       "    }\n",
       "\n",
       "    .dataframe thead th {\n",
       "        text-align: right;\n",
       "    }\n",
       "</style>\n",
       "<table border=\"1\" class=\"dataframe\">\n",
       "  <thead>\n",
       "    <tr style=\"text-align: right;\">\n",
       "      <th></th>\n",
       "      <th>_rowstate_</th>\n",
       "      <th>Movie</th>\n",
       "      <th>Gender</th>\n",
       "      <th>Marital_Status</th>\n",
       "      <th>Sinage</th>\n",
       "      <th>Parking</th>\n",
       "      <th>Clean</th>\n",
       "      <th>Overall</th>\n",
       "      <th>Age</th>\n",
       "      <th>Income</th>\n",
       "      <th>Hear_About</th>\n",
       "    </tr>\n",
       "  </thead>\n",
       "  <tbody>\n",
       "    <tr>\n",
       "      <th>0</th>\n",
       "      <td>0</td>\n",
       "      <td>Ferris Buellers Day Off</td>\n",
       "      <td>2</td>\n",
       "      <td>1</td>\n",
       "      <td>2.0</td>\n",
       "      <td>2.0</td>\n",
       "      <td>2.0</td>\n",
       "      <td>2.0</td>\n",
       "      <td>3.0</td>\n",
       "      <td>1.0</td>\n",
       "      <td>5</td>\n",
       "    </tr>\n",
       "    <tr>\n",
       "      <th>1</th>\n",
       "      <td>0</td>\n",
       "      <td>Ferris Buellers Day Off</td>\n",
       "      <td>2</td>\n",
       "      <td>2</td>\n",
       "      <td>1.0</td>\n",
       "      <td>1.0</td>\n",
       "      <td>1.0</td>\n",
       "      <td>1.0</td>\n",
       "      <td>2.0</td>\n",
       "      <td>1.0</td>\n",
       "      <td>5</td>\n",
       "    </tr>\n",
       "  </tbody>\n",
       "</table>\n",
       "</div>"
      ],
      "text/plain": [
       "   _rowstate_                    Movie  Gender  Marital_Status  Sinage  \\\n",
       "0           0  Ferris Buellers Day Off       2               1     2.0   \n",
       "1           0  Ferris Buellers Day Off       2               2     1.0   \n",
       "\n",
       "   Parking  Clean  Overall  Age  Income Hear_About  \n",
       "0      2.0    2.0      2.0  3.0     1.0          5  \n",
       "1      1.0    1.0      1.0  2.0     1.0          5  "
      ]
     },
     "execution_count": 84,
     "metadata": {},
     "output_type": "execute_result"
    }
   ],
   "source": [
    "films.head(2)"
   ]
  },
  {
   "cell_type": "code",
   "execution_count": 115,
   "id": "ce7f2e98",
   "metadata": {},
   "outputs": [],
   "source": [
    "#To check the factors that are linked to satisfaction we will run the Chi-square test:\n",
    "#1) between Overall and Signage\n",
    "#2) between Overall and parking\n",
    "#3) between Overall and clean\n",
    "#4) between Overall and Gender\n",
    "#5) between Overall and Marital Status"
   ]
  },
  {
   "cell_type": "markdown",
   "id": "7a1a8266",
   "metadata": {},
   "source": [
    "##### finding out relationship between Sinage and Overall"
   ]
  },
  {
   "cell_type": "code",
   "execution_count": 86,
   "id": "36e7e9ce",
   "metadata": {
    "scrolled": true
   },
   "outputs": [
    {
     "data": {
      "text/html": [
       "<div>\n",
       "<style scoped>\n",
       "    .dataframe tbody tr th:only-of-type {\n",
       "        vertical-align: middle;\n",
       "    }\n",
       "\n",
       "    .dataframe tbody tr th {\n",
       "        vertical-align: top;\n",
       "    }\n",
       "\n",
       "    .dataframe thead th {\n",
       "        text-align: right;\n",
       "    }\n",
       "</style>\n",
       "<table border=\"1\" class=\"dataframe\">\n",
       "  <thead>\n",
       "    <tr style=\"text-align: right;\">\n",
       "      <th>Sinage</th>\n",
       "      <th>1.0</th>\n",
       "      <th>2.0</th>\n",
       "      <th>3.0</th>\n",
       "      <th>4.0</th>\n",
       "      <th>5.0</th>\n",
       "    </tr>\n",
       "    <tr>\n",
       "      <th>Overall</th>\n",
       "      <th></th>\n",
       "      <th></th>\n",
       "      <th></th>\n",
       "      <th></th>\n",
       "      <th></th>\n",
       "    </tr>\n",
       "  </thead>\n",
       "  <tbody>\n",
       "    <tr>\n",
       "      <th>1.0</th>\n",
       "      <td>90</td>\n",
       "      <td>44</td>\n",
       "      <td>13</td>\n",
       "      <td>2</td>\n",
       "      <td>2</td>\n",
       "    </tr>\n",
       "    <tr>\n",
       "      <th>2.0</th>\n",
       "      <td>22</td>\n",
       "      <td>109</td>\n",
       "      <td>25</td>\n",
       "      <td>4</td>\n",
       "      <td>2</td>\n",
       "    </tr>\n",
       "    <tr>\n",
       "      <th>3.0</th>\n",
       "      <td>0</td>\n",
       "      <td>4</td>\n",
       "      <td>8</td>\n",
       "      <td>0</td>\n",
       "      <td>0</td>\n",
       "    </tr>\n",
       "    <tr>\n",
       "      <th>4.0</th>\n",
       "      <td>0</td>\n",
       "      <td>0</td>\n",
       "      <td>1</td>\n",
       "      <td>0</td>\n",
       "      <td>0</td>\n",
       "    </tr>\n",
       "    <tr>\n",
       "      <th>5.0</th>\n",
       "      <td>1</td>\n",
       "      <td>1</td>\n",
       "      <td>1</td>\n",
       "      <td>0</td>\n",
       "      <td>1</td>\n",
       "    </tr>\n",
       "  </tbody>\n",
       "</table>\n",
       "</div>"
      ],
      "text/plain": [
       "Sinage   1.0  2.0  3.0  4.0  5.0\n",
       "Overall                         \n",
       "1.0       90   44   13    2    2\n",
       "2.0       22  109   25    4    2\n",
       "3.0        0    4    8    0    0\n",
       "4.0        0    0    1    0    0\n",
       "5.0        1    1    1    0    1"
      ]
     },
     "execution_count": 86,
     "metadata": {},
     "output_type": "execute_result"
    }
   ],
   "source": [
    "# get the ob_freq_table from the dataset\n",
    "obs_freq = pd.crosstab( films.Overall, films.Sinage )\n",
    "obs_freq"
   ]
  },
  {
   "cell_type": "markdown",
   "id": "31d1772d",
   "metadata": {},
   "source": [
    "### Chi-Square Test"
   ]
  },
  {
   "cell_type": "markdown",
   "id": "5f6d9632",
   "metadata": {},
   "source": [
    "#### Step 1: Hypothesis"
   ]
  },
  {
   "cell_type": "markdown",
   "id": "f44129dc",
   "metadata": {},
   "source": [
    "                    Null hypothesis: There is no relationship between the Sinage and Overall Score.\n",
    "                    Alternative hypothesis: There is an association between the Sinage and Overall Score."
   ]
  },
  {
   "cell_type": "markdown",
   "id": "ee46cd4d",
   "metadata": {},
   "source": [
    "#### Step 2: Criteria for Decision\n",
    "\n",
    "                alpha = 0.01\n",
    "                Accept null hypothesis if p-value is greater than alpha\n",
    "                Reject null hypothesis if p-value is less than alpha"
   ]
  },
  {
   "cell_type": "markdown",
   "id": "3eaaffff",
   "metadata": {},
   "source": [
    "#### Step 3: Calculating the Test Statistics and P-value    "
   ]
  },
  {
   "cell_type": "code",
   "execution_count": 87,
   "id": "7bfcbe40",
   "metadata": {
    "scrolled": true
   },
   "outputs": [],
   "source": [
    "alpha = 0.01\n",
    "chi2, pvalue, dof, expected = stats.chi2_contingency( obs_freq )"
   ]
  },
  {
   "cell_type": "markdown",
   "id": "b6989052",
   "metadata": {},
   "source": [
    "#### Step 4: Making Decision"
   ]
  },
  {
   "cell_type": "code",
   "execution_count": 88,
   "id": "d4dabf3e",
   "metadata": {},
   "outputs": [
    {
     "name": "stdout",
     "output_type": "stream",
     "text": [
      "Alpha: 0.01 \n",
      "Chi-Score: 125.61859671027882 \n",
      "P-value: 4.532989700034049e-19 \n",
      "dof: 16 \n",
      "Expected: [[5.17060606e+01 7.22969697e+01 2.19636364e+01 2.74545455e+00\n",
      "  2.28787879e+00]\n",
      " [5.54727273e+01 7.75636364e+01 2.35636364e+01 2.94545455e+00\n",
      "  2.45454545e+00]\n",
      " [4.10909091e+00 5.74545455e+00 1.74545455e+00 2.18181818e-01\n",
      "  1.81818182e-01]\n",
      " [3.42424242e-01 4.78787879e-01 1.45454545e-01 1.81818182e-02\n",
      "  1.51515152e-02]\n",
      " [1.36969697e+00 1.91515152e+00 5.81818182e-01 7.27272727e-02\n",
      "  6.06060606e-02]]\n",
      "Decision: Reject Null Hypothesis as p-value is less than alpha.  There is an association between the Sinage and Overall Score.\n"
     ]
    }
   ],
   "source": [
    "print(f'Alpha: {alpha} \\nChi-Score: {chi2} \\nP-value: {pvalue} \\ndof: {dof} \\nExpected: {expected}')\n",
    "if pvalue > alpha:\n",
    "    print('Decision: Accept Null Hypothesis as p-value is greater than alpha. There is no relationship between the Sinage and Overall Score.')\n",
    "else:\n",
    "    print('Decision: Reject Null Hypothesis as p-value is less than alpha.  There is an association between the Sinage and Overall Score.')"
   ]
  },
  {
   "cell_type": "markdown",
   "id": "57238116",
   "metadata": {},
   "source": [
    "##### finding out relationship between Parking and Overall"
   ]
  },
  {
   "cell_type": "code",
   "execution_count": 89,
   "id": "a0ce5d3a",
   "metadata": {
    "scrolled": true
   },
   "outputs": [
    {
     "data": {
      "text/html": [
       "<div>\n",
       "<style scoped>\n",
       "    .dataframe tbody tr th:only-of-type {\n",
       "        vertical-align: middle;\n",
       "    }\n",
       "\n",
       "    .dataframe tbody tr th {\n",
       "        vertical-align: top;\n",
       "    }\n",
       "\n",
       "    .dataframe thead th {\n",
       "        text-align: right;\n",
       "    }\n",
       "</style>\n",
       "<table border=\"1\" class=\"dataframe\">\n",
       "  <thead>\n",
       "    <tr style=\"text-align: right;\">\n",
       "      <th>Parking</th>\n",
       "      <th>1.0</th>\n",
       "      <th>2.0</th>\n",
       "      <th>3.0</th>\n",
       "      <th>4.0</th>\n",
       "      <th>5.0</th>\n",
       "    </tr>\n",
       "    <tr>\n",
       "      <th>Overall</th>\n",
       "      <th></th>\n",
       "      <th></th>\n",
       "      <th></th>\n",
       "      <th></th>\n",
       "      <th></th>\n",
       "    </tr>\n",
       "  </thead>\n",
       "  <tbody>\n",
       "    <tr>\n",
       "      <th>1.0</th>\n",
       "      <td>105</td>\n",
       "      <td>40</td>\n",
       "      <td>4</td>\n",
       "      <td>2</td>\n",
       "      <td>0</td>\n",
       "    </tr>\n",
       "    <tr>\n",
       "      <th>2.0</th>\n",
       "      <td>27</td>\n",
       "      <td>111</td>\n",
       "      <td>20</td>\n",
       "      <td>3</td>\n",
       "      <td>1</td>\n",
       "    </tr>\n",
       "    <tr>\n",
       "      <th>3.0</th>\n",
       "      <td>2</td>\n",
       "      <td>3</td>\n",
       "      <td>5</td>\n",
       "      <td>1</td>\n",
       "      <td>1</td>\n",
       "    </tr>\n",
       "    <tr>\n",
       "      <th>4.0</th>\n",
       "      <td>0</td>\n",
       "      <td>0</td>\n",
       "      <td>0</td>\n",
       "      <td>0</td>\n",
       "      <td>1</td>\n",
       "    </tr>\n",
       "    <tr>\n",
       "      <th>5.0</th>\n",
       "      <td>1</td>\n",
       "      <td>1</td>\n",
       "      <td>0</td>\n",
       "      <td>1</td>\n",
       "      <td>1</td>\n",
       "    </tr>\n",
       "  </tbody>\n",
       "</table>\n",
       "</div>"
      ],
      "text/plain": [
       "Parking  1.0  2.0  3.0  4.0  5.0\n",
       "Overall                         \n",
       "1.0      105   40    4    2    0\n",
       "2.0       27  111   20    3    1\n",
       "3.0        2    3    5    1    1\n",
       "4.0        0    0    0    0    1\n",
       "5.0        1    1    0    1    1"
      ]
     },
     "execution_count": 89,
     "metadata": {},
     "output_type": "execute_result"
    }
   ],
   "source": [
    "# get the ob_freq_table from the dataset\n",
    "obs_freq_2 = pd.crosstab( films.Overall, films.Parking )\n",
    "obs_freq_2"
   ]
  },
  {
   "cell_type": "markdown",
   "id": "0dede5e0",
   "metadata": {},
   "source": [
    "### Chi-Square Test"
   ]
  },
  {
   "cell_type": "markdown",
   "id": "c8fc55aa",
   "metadata": {},
   "source": [
    "#### Step 1: Hypothesis"
   ]
  },
  {
   "cell_type": "markdown",
   "id": "23f97835",
   "metadata": {},
   "source": [
    "                    Null hypothesis: There is no relationship between the Parking and Overall Score.\n",
    "                    Alternative hypothesis: There is an association between the Parking and Overall Score."
   ]
  },
  {
   "cell_type": "markdown",
   "id": "fbcf06de",
   "metadata": {},
   "source": [
    "#### Step 2: Criteria for Decision\n",
    "\n",
    "                alpha = 0.01\n",
    "                Accept null hypothesis if p-value is greater than alpha\n",
    "                Reject null hypothesis if p-value is less than alpha"
   ]
  },
  {
   "cell_type": "markdown",
   "id": "f0ff2196",
   "metadata": {},
   "source": [
    "#### Step 3: Calculating the Test Statistics and P-value    "
   ]
  },
  {
   "cell_type": "code",
   "execution_count": 90,
   "id": "4bd4b243",
   "metadata": {
    "scrolled": true
   },
   "outputs": [],
   "source": [
    "alpha = 0.01\n",
    "chi2, pvalue, dof, expected = stats.chi2_contingency( obs_freq_2 )"
   ]
  },
  {
   "cell_type": "markdown",
   "id": "d2abbedb",
   "metadata": {},
   "source": [
    "#### Step 4: Making Decision"
   ]
  },
  {
   "cell_type": "code",
   "execution_count": 91,
   "id": "e952d5b2",
   "metadata": {},
   "outputs": [
    {
     "name": "stdout",
     "output_type": "stream",
     "text": [
      "Alpha: 0.01 \n",
      "Chi-Score: 230.61691663391673 \n",
      "P-value: 4.783162283608565e-40 \n",
      "dof: 16 \n",
      "Expected: [[6.17727273e+01 7.09242424e+01 1.32696970e+01 3.20303030e+00\n",
      "  1.83030303e+00]\n",
      " [6.62727273e+01 7.60909091e+01 1.42363636e+01 3.43636364e+00\n",
      "  1.96363636e+00]\n",
      " [4.90909091e+00 5.63636364e+00 1.05454545e+00 2.54545455e-01\n",
      "  1.45454545e-01]\n",
      " [4.09090909e-01 4.69696970e-01 8.78787879e-02 2.12121212e-02\n",
      "  1.21212121e-02]\n",
      " [1.63636364e+00 1.87878788e+00 3.51515152e-01 8.48484848e-02\n",
      "  4.84848485e-02]]\n",
      "Decision: Reject Null Hypothesis as p-value is less than alpha.  There is an association between the Parking and Overall Score.\n"
     ]
    }
   ],
   "source": [
    "print(f'Alpha: {alpha} \\nChi-Score: {chi2} \\nP-value: {pvalue} \\ndof: {dof} \\nExpected: {expected}')\n",
    "if pvalue > alpha:\n",
    "    print('Decision: Accept Null Hypothesis as p-value is greater than alpha. There is no relationship between the Parking and Overall Score.')\n",
    "else:\n",
    "    print('Decision: Reject Null Hypothesis as p-value is less than alpha.  There is an association between the Parking and Overall Score.')"
   ]
  },
  {
   "cell_type": "markdown",
   "id": "b8b813a9",
   "metadata": {},
   "source": [
    "##### finding out relationship between Clean and Overall"
   ]
  },
  {
   "cell_type": "code",
   "execution_count": 92,
   "id": "c2bfbfcf",
   "metadata": {
    "scrolled": true
   },
   "outputs": [
    {
     "data": {
      "text/html": [
       "<div>\n",
       "<style scoped>\n",
       "    .dataframe tbody tr th:only-of-type {\n",
       "        vertical-align: middle;\n",
       "    }\n",
       "\n",
       "    .dataframe tbody tr th {\n",
       "        vertical-align: top;\n",
       "    }\n",
       "\n",
       "    .dataframe thead th {\n",
       "        text-align: right;\n",
       "    }\n",
       "</style>\n",
       "<table border=\"1\" class=\"dataframe\">\n",
       "  <thead>\n",
       "    <tr style=\"text-align: right;\">\n",
       "      <th>Clean</th>\n",
       "      <th>1.0</th>\n",
       "      <th>2.0</th>\n",
       "      <th>3.0</th>\n",
       "      <th>4.0</th>\n",
       "      <th>5.0</th>\n",
       "    </tr>\n",
       "    <tr>\n",
       "      <th>Overall</th>\n",
       "      <th></th>\n",
       "      <th></th>\n",
       "      <th></th>\n",
       "      <th></th>\n",
       "      <th></th>\n",
       "    </tr>\n",
       "  </thead>\n",
       "  <tbody>\n",
       "    <tr>\n",
       "      <th>1.0</th>\n",
       "      <td>104</td>\n",
       "      <td>39</td>\n",
       "      <td>6</td>\n",
       "      <td>1</td>\n",
       "      <td>1</td>\n",
       "    </tr>\n",
       "    <tr>\n",
       "      <th>2.0</th>\n",
       "      <td>35</td>\n",
       "      <td>109</td>\n",
       "      <td>14</td>\n",
       "      <td>4</td>\n",
       "      <td>0</td>\n",
       "    </tr>\n",
       "    <tr>\n",
       "      <th>3.0</th>\n",
       "      <td>3</td>\n",
       "      <td>5</td>\n",
       "      <td>4</td>\n",
       "      <td>0</td>\n",
       "      <td>0</td>\n",
       "    </tr>\n",
       "    <tr>\n",
       "      <th>4.0</th>\n",
       "      <td>0</td>\n",
       "      <td>1</td>\n",
       "      <td>0</td>\n",
       "      <td>0</td>\n",
       "      <td>0</td>\n",
       "    </tr>\n",
       "    <tr>\n",
       "      <th>5.0</th>\n",
       "      <td>2</td>\n",
       "      <td>1</td>\n",
       "      <td>0</td>\n",
       "      <td>0</td>\n",
       "      <td>1</td>\n",
       "    </tr>\n",
       "  </tbody>\n",
       "</table>\n",
       "</div>"
      ],
      "text/plain": [
       "Clean    1.0  2.0  3.0  4.0  5.0\n",
       "Overall                         \n",
       "1.0      104   39    6    1    1\n",
       "2.0       35  109   14    4    0\n",
       "3.0        3    5    4    0    0\n",
       "4.0        0    1    0    0    0\n",
       "5.0        2    1    0    0    1"
      ]
     },
     "execution_count": 92,
     "metadata": {},
     "output_type": "execute_result"
    }
   ],
   "source": [
    "# get the ob_freq_table from the dataset\n",
    "obs_freq_3 = pd.crosstab( films.Overall, films.Clean )\n",
    "obs_freq_3"
   ]
  },
  {
   "cell_type": "markdown",
   "id": "8037d7fa",
   "metadata": {},
   "source": [
    "### Chi-Square Test"
   ]
  },
  {
   "cell_type": "markdown",
   "id": "d4a146e5",
   "metadata": {},
   "source": [
    "#### Step 1: Hypothesis"
   ]
  },
  {
   "cell_type": "markdown",
   "id": "75e2115f",
   "metadata": {},
   "source": [
    "                    Null hypothesis: There is no relationship between the Clean and Overall Score.\n",
    "                    Alternative hypothesis: There is an association between the Clean and Overall Score."
   ]
  },
  {
   "cell_type": "markdown",
   "id": "9d441c89",
   "metadata": {},
   "source": [
    "#### Step 2: Criteria for Decision\n",
    "\n",
    "                alpha = 0.01\n",
    "                Accept null hypothesis if p-value is greater than alpha\n",
    "                Reject null hypothesis if p-value is less than alpha"
   ]
  },
  {
   "cell_type": "markdown",
   "id": "7b96df3b",
   "metadata": {},
   "source": [
    "#### Step 3: Calculating the Test Statistics and P-value    "
   ]
  },
  {
   "cell_type": "code",
   "execution_count": 93,
   "id": "ed80ca97",
   "metadata": {
    "scrolled": true
   },
   "outputs": [],
   "source": [
    "alpha = 0.01\n",
    "chi2, pvalue, dof, expected = stats.chi2_contingency( obs_freq_3 )"
   ]
  },
  {
   "cell_type": "markdown",
   "id": "9b6c5ae3",
   "metadata": {},
   "source": [
    "#### Step 4: Making Decision"
   ]
  },
  {
   "cell_type": "code",
   "execution_count": 94,
   "id": "0538ed50",
   "metadata": {},
   "outputs": [
    {
     "name": "stdout",
     "output_type": "stream",
     "text": [
      "Alpha: 0.01 \n",
      "Chi-Score: 127.7194555599952 \n",
      "P-value: 1.7772535915433765e-19 \n",
      "dof: 16 \n",
      "Expected: [[6.58909091e+01 7.09242424e+01 1.09818182e+01 2.28787879e+00\n",
      "  9.15151515e-01]\n",
      " [7.06909091e+01 7.60909091e+01 1.17818182e+01 2.45454545e+00\n",
      "  9.81818182e-01]\n",
      " [5.23636364e+00 5.63636364e+00 8.72727273e-01 1.81818182e-01\n",
      "  7.27272727e-02]\n",
      " [4.36363636e-01 4.69696970e-01 7.27272727e-02 1.51515152e-02\n",
      "  6.06060606e-03]\n",
      " [1.74545455e+00 1.87878788e+00 2.90909091e-01 6.06060606e-02\n",
      "  2.42424242e-02]]\n",
      "Decision: Reject Null Hypothesis as p-value is less than alpha.  There is an association between the Clean and Overall Score.\n"
     ]
    }
   ],
   "source": [
    "print(f'Alpha: {alpha} \\nChi-Score: {chi2} \\nP-value: {pvalue} \\ndof: {dof} \\nExpected: {expected}')\n",
    "if pvalue > alpha:\n",
    "    print('Decision: Accept Null Hypothesis as p-value is greater than alpha. There is no relationship between the Clean and Overall Score.')\n",
    "else:\n",
    "    print('Decision: Reject Null Hypothesis as p-value is less than alpha.  There is an association between the Clean and Overall Score.')"
   ]
  },
  {
   "cell_type": "markdown",
   "id": "c8820fde",
   "metadata": {},
   "source": [
    "##### finding out relationship between Gender and Overall"
   ]
  },
  {
   "cell_type": "code",
   "execution_count": 95,
   "id": "e9dc7cc4",
   "metadata": {
    "scrolled": true
   },
   "outputs": [
    {
     "data": {
      "text/html": [
       "<div>\n",
       "<style scoped>\n",
       "    .dataframe tbody tr th:only-of-type {\n",
       "        vertical-align: middle;\n",
       "    }\n",
       "\n",
       "    .dataframe tbody tr th {\n",
       "        vertical-align: top;\n",
       "    }\n",
       "\n",
       "    .dataframe thead th {\n",
       "        text-align: right;\n",
       "    }\n",
       "</style>\n",
       "<table border=\"1\" class=\"dataframe\">\n",
       "  <thead>\n",
       "    <tr style=\"text-align: right;\">\n",
       "      <th>Gender</th>\n",
       "      <th>1</th>\n",
       "      <th>2</th>\n",
       "    </tr>\n",
       "    <tr>\n",
       "      <th>Overall</th>\n",
       "      <th></th>\n",
       "      <th></th>\n",
       "    </tr>\n",
       "  </thead>\n",
       "  <tbody>\n",
       "    <tr>\n",
       "      <th>1.0</th>\n",
       "      <td>49</td>\n",
       "      <td>102</td>\n",
       "    </tr>\n",
       "    <tr>\n",
       "      <th>2.0</th>\n",
       "      <td>59</td>\n",
       "      <td>103</td>\n",
       "    </tr>\n",
       "    <tr>\n",
       "      <th>3.0</th>\n",
       "      <td>7</td>\n",
       "      <td>5</td>\n",
       "    </tr>\n",
       "    <tr>\n",
       "      <th>4.0</th>\n",
       "      <td>0</td>\n",
       "      <td>1</td>\n",
       "    </tr>\n",
       "    <tr>\n",
       "      <th>5.0</th>\n",
       "      <td>2</td>\n",
       "      <td>2</td>\n",
       "    </tr>\n",
       "  </tbody>\n",
       "</table>\n",
       "</div>"
      ],
      "text/plain": [
       "Gender    1    2\n",
       "Overall         \n",
       "1.0      49  102\n",
       "2.0      59  103\n",
       "3.0       7    5\n",
       "4.0       0    1\n",
       "5.0       2    2"
      ]
     },
     "execution_count": 95,
     "metadata": {},
     "output_type": "execute_result"
    }
   ],
   "source": [
    "# get the ob_freq_table from the dataset\n",
    "obs_freq_4 = pd.crosstab( films.Overall, films.Gender )\n",
    "obs_freq_4"
   ]
  },
  {
   "cell_type": "markdown",
   "id": "86308228",
   "metadata": {},
   "source": [
    "### Chi-Square Test"
   ]
  },
  {
   "cell_type": "markdown",
   "id": "a5030a1e",
   "metadata": {},
   "source": [
    "#### Step 1: Hypothesis"
   ]
  },
  {
   "cell_type": "markdown",
   "id": "b5e7e8d3",
   "metadata": {},
   "source": [
    "                    Null hypothesis: There is no relationship between the Gender and Overall Score.\n",
    "                    Alternative hypothesis: There is an association between the Gender and Overall Score."
   ]
  },
  {
   "cell_type": "markdown",
   "id": "71c60dcc",
   "metadata": {},
   "source": [
    "#### Step 2: Criteria for Decision\n",
    "\n",
    "                alpha = 0.01\n",
    "                Accept null hypothesis if p-value is greater than alpha\n",
    "                Reject null hypothesis if p-value is less than alpha"
   ]
  },
  {
   "cell_type": "markdown",
   "id": "9245f526",
   "metadata": {},
   "source": [
    "#### Step 3: Calculating the Test Statistics and P-value    "
   ]
  },
  {
   "cell_type": "code",
   "execution_count": 96,
   "id": "c87ecaee",
   "metadata": {
    "scrolled": true
   },
   "outputs": [],
   "source": [
    "alpha = 0.01\n",
    "chi2, pvalue, dof, expected = stats.chi2_contingency( obs_freq_4 )"
   ]
  },
  {
   "cell_type": "markdown",
   "id": "e6ecd0d8",
   "metadata": {},
   "source": [
    "#### Step 4: Making Decision"
   ]
  },
  {
   "cell_type": "code",
   "execution_count": 97,
   "id": "2e97b434",
   "metadata": {},
   "outputs": [
    {
     "name": "stdout",
     "output_type": "stream",
     "text": [
      "Alpha: 0.01 \n",
      "Chi-Score: 4.325375175990271 \n",
      "P-value: 0.36375838131773974 \n",
      "dof: 4 \n",
      "Expected: [[ 53.53636364  97.46363636]\n",
      " [ 57.43636364 104.56363636]\n",
      " [  4.25454545   7.74545455]\n",
      " [  0.35454545   0.64545455]\n",
      " [  1.41818182   2.58181818]]\n",
      "Decision: Accept Null Hypothesis as p-value is greater than alpha. There is no relationship between the Gender and Overall Score.\n"
     ]
    }
   ],
   "source": [
    "print(f'Alpha: {alpha} \\nChi-Score: {chi2} \\nP-value: {pvalue} \\ndof: {dof} \\nExpected: {expected}')\n",
    "if pvalue > alpha:\n",
    "    print('Decision: Accept Null Hypothesis as p-value is greater than alpha. There is no relationship between the Gender and Overall Score.')\n",
    "else:\n",
    "    print('Decision: Reject Null Hypothesis as p-value is less than alpha.  There is an association between the Gender and Overall Score.')"
   ]
  },
  {
   "cell_type": "markdown",
   "id": "628ecf15",
   "metadata": {},
   "source": [
    "##### finding out relationship between Marital Status and Overall"
   ]
  },
  {
   "cell_type": "code",
   "execution_count": 98,
   "id": "040ae954",
   "metadata": {
    "scrolled": true
   },
   "outputs": [
    {
     "data": {
      "text/html": [
       "<div>\n",
       "<style scoped>\n",
       "    .dataframe tbody tr th:only-of-type {\n",
       "        vertical-align: middle;\n",
       "    }\n",
       "\n",
       "    .dataframe tbody tr th {\n",
       "        vertical-align: top;\n",
       "    }\n",
       "\n",
       "    .dataframe thead th {\n",
       "        text-align: right;\n",
       "    }\n",
       "</style>\n",
       "<table border=\"1\" class=\"dataframe\">\n",
       "  <thead>\n",
       "    <tr style=\"text-align: right;\">\n",
       "      <th>Marital_Status</th>\n",
       "      <th>1</th>\n",
       "      <th>2</th>\n",
       "    </tr>\n",
       "    <tr>\n",
       "      <th>Overall</th>\n",
       "      <th></th>\n",
       "      <th></th>\n",
       "    </tr>\n",
       "  </thead>\n",
       "  <tbody>\n",
       "    <tr>\n",
       "      <th>1.0</th>\n",
       "      <td>46</td>\n",
       "      <td>105</td>\n",
       "    </tr>\n",
       "    <tr>\n",
       "      <th>2.0</th>\n",
       "      <td>51</td>\n",
       "      <td>111</td>\n",
       "    </tr>\n",
       "    <tr>\n",
       "      <th>3.0</th>\n",
       "      <td>2</td>\n",
       "      <td>10</td>\n",
       "    </tr>\n",
       "    <tr>\n",
       "      <th>4.0</th>\n",
       "      <td>1</td>\n",
       "      <td>0</td>\n",
       "    </tr>\n",
       "    <tr>\n",
       "      <th>5.0</th>\n",
       "      <td>0</td>\n",
       "      <td>4</td>\n",
       "    </tr>\n",
       "  </tbody>\n",
       "</table>\n",
       "</div>"
      ],
      "text/plain": [
       "Marital_Status   1    2\n",
       "Overall                \n",
       "1.0             46  105\n",
       "2.0             51  111\n",
       "3.0              2   10\n",
       "4.0              1    0\n",
       "5.0              0    4"
      ]
     },
     "execution_count": 98,
     "metadata": {},
     "output_type": "execute_result"
    }
   ],
   "source": [
    "# get the ob_freq_table from the dataset\n",
    "obs_freq_5 = pd.crosstab( films.Overall, films.Marital_Status )\n",
    "obs_freq_5"
   ]
  },
  {
   "cell_type": "markdown",
   "id": "909316d9",
   "metadata": {},
   "source": [
    "### Chi-Square Test"
   ]
  },
  {
   "cell_type": "markdown",
   "id": "dc030d8c",
   "metadata": {},
   "source": [
    "#### Step 1: Hypothesis"
   ]
  },
  {
   "cell_type": "markdown",
   "id": "c10e1627",
   "metadata": {},
   "source": [
    "                    Null hypothesis: There is no relationship between the Marital Status and Overall Score.\n",
    "                    Alternative hypothesis: There is an association between the Marital Status and Overall Score."
   ]
  },
  {
   "cell_type": "markdown",
   "id": "73f8f739",
   "metadata": {},
   "source": [
    "#### Step 2: Criteria for Decision\n",
    "\n",
    "                alpha = 0.01\n",
    "                Accept null hypothesis if p-value is greater than alpha\n",
    "                Reject null hypothesis if p-value is less than alpha"
   ]
  },
  {
   "cell_type": "markdown",
   "id": "873343e6",
   "metadata": {},
   "source": [
    "#### Step 3: Calculating the Test Statistics and P-value    "
   ]
  },
  {
   "cell_type": "code",
   "execution_count": 99,
   "id": "ba19e6c7",
   "metadata": {
    "scrolled": true
   },
   "outputs": [],
   "source": [
    "alpha = 0.01\n",
    "chi2, pvalue, dof, expected = stats.chi2_contingency( obs_freq_5 )"
   ]
  },
  {
   "cell_type": "markdown",
   "id": "4292b353",
   "metadata": {},
   "source": [
    "#### Step 4: Making Decision"
   ]
  },
  {
   "cell_type": "code",
   "execution_count": 100,
   "id": "57fc0d36",
   "metadata": {},
   "outputs": [
    {
     "name": "stdout",
     "output_type": "stream",
     "text": [
      "Alpha: 0.01 \n",
      "Chi-Score: 5.2040167002591415 \n",
      "P-value: 0.26699728606451045 \n",
      "dof: 4 \n",
      "Expected: [[ 45.75757576 105.24242424]\n",
      " [ 49.09090909 112.90909091]\n",
      " [  3.63636364   8.36363636]\n",
      " [  0.3030303    0.6969697 ]\n",
      " [  1.21212121   2.78787879]]\n",
      "Decision: Accept Null Hypothesis as p-value is greater than alpha. There is no relationship between the Marital Status and Overall Score.\n"
     ]
    }
   ],
   "source": [
    "print(f'Alpha: {alpha} \\nChi-Score: {chi2} \\nP-value: {pvalue} \\ndof: {dof} \\nExpected: {expected}')\n",
    "if pvalue > alpha:\n",
    "    print('Decision: Accept Null Hypothesis as p-value is greater than alpha. There is no relationship between the Marital Status and Overall Score.')\n",
    "else:\n",
    "    print('Decision: Reject Null Hypothesis as p-value is less than alpha.  There is an association between the Marital Status and Overall Score.')"
   ]
  },
  {
   "cell_type": "markdown",
   "id": "854887a7",
   "metadata": {},
   "source": [
    "##### finding out relationship between Income and Overall"
   ]
  },
  {
   "cell_type": "code",
   "execution_count": 101,
   "id": "00e46d7c",
   "metadata": {
    "scrolled": true
   },
   "outputs": [
    {
     "data": {
      "text/html": [
       "<div>\n",
       "<style scoped>\n",
       "    .dataframe tbody tr th:only-of-type {\n",
       "        vertical-align: middle;\n",
       "    }\n",
       "\n",
       "    .dataframe tbody tr th {\n",
       "        vertical-align: top;\n",
       "    }\n",
       "\n",
       "    .dataframe thead th {\n",
       "        text-align: right;\n",
       "    }\n",
       "</style>\n",
       "<table border=\"1\" class=\"dataframe\">\n",
       "  <thead>\n",
       "    <tr style=\"text-align: right;\">\n",
       "      <th>Income</th>\n",
       "      <th>1.0</th>\n",
       "      <th>2.0</th>\n",
       "      <th>3.0</th>\n",
       "    </tr>\n",
       "    <tr>\n",
       "      <th>Overall</th>\n",
       "      <th></th>\n",
       "      <th></th>\n",
       "      <th></th>\n",
       "    </tr>\n",
       "  </thead>\n",
       "  <tbody>\n",
       "    <tr>\n",
       "      <th>1.0</th>\n",
       "      <td>72</td>\n",
       "      <td>41</td>\n",
       "      <td>38</td>\n",
       "    </tr>\n",
       "    <tr>\n",
       "      <th>2.0</th>\n",
       "      <td>76</td>\n",
       "      <td>36</td>\n",
       "      <td>50</td>\n",
       "    </tr>\n",
       "    <tr>\n",
       "      <th>3.0</th>\n",
       "      <td>7</td>\n",
       "      <td>4</td>\n",
       "      <td>1</td>\n",
       "    </tr>\n",
       "    <tr>\n",
       "      <th>4.0</th>\n",
       "      <td>1</td>\n",
       "      <td>0</td>\n",
       "      <td>0</td>\n",
       "    </tr>\n",
       "    <tr>\n",
       "      <th>5.0</th>\n",
       "      <td>2</td>\n",
       "      <td>1</td>\n",
       "      <td>1</td>\n",
       "    </tr>\n",
       "  </tbody>\n",
       "</table>\n",
       "</div>"
      ],
      "text/plain": [
       "Income   1.0  2.0  3.0\n",
       "Overall               \n",
       "1.0       72   41   38\n",
       "2.0       76   36   50\n",
       "3.0        7    4    1\n",
       "4.0        1    0    0\n",
       "5.0        2    1    1"
      ]
     },
     "execution_count": 101,
     "metadata": {},
     "output_type": "execute_result"
    }
   ],
   "source": [
    "# get the ob_freq_table from the dataset\n",
    "obs_freq_6 = pd.crosstab( films.Overall, films.Income )\n",
    "obs_freq_6"
   ]
  },
  {
   "cell_type": "markdown",
   "id": "6c8dd04c",
   "metadata": {},
   "source": [
    "### Chi-Square Test"
   ]
  },
  {
   "cell_type": "markdown",
   "id": "60788b40",
   "metadata": {},
   "source": [
    "#### Step 1: Hypothesis"
   ]
  },
  {
   "cell_type": "markdown",
   "id": "9e0e2d19",
   "metadata": {},
   "source": [
    "                    Null hypothesis: There is no relationship between the Income and Overall Score.\n",
    "                    Alternative hypothesis: There is an association between the Income and Overall Score."
   ]
  },
  {
   "cell_type": "markdown",
   "id": "b4d9c0ce",
   "metadata": {},
   "source": [
    "#### Step 2: Criteria for Decision\n",
    "\n",
    "                alpha = 0.01\n",
    "                Accept null hypothesis if p-value is greater than alpha\n",
    "                Reject null hypothesis if p-value is less than alpha"
   ]
  },
  {
   "cell_type": "markdown",
   "id": "e004f5fa",
   "metadata": {},
   "source": [
    "#### Step 3: Calculating the Test Statistics and P-value    "
   ]
  },
  {
   "cell_type": "code",
   "execution_count": 102,
   "id": "93f0a545",
   "metadata": {
    "scrolled": true
   },
   "outputs": [],
   "source": [
    "alpha = 0.01\n",
    "chi2, pvalue, dof, expected = stats.chi2_contingency( obs_freq_6 )"
   ]
  },
  {
   "cell_type": "markdown",
   "id": "f622ff71",
   "metadata": {},
   "source": [
    "#### Step 4: Making Decision"
   ]
  },
  {
   "cell_type": "code",
   "execution_count": 103,
   "id": "8664bb7f",
   "metadata": {},
   "outputs": [
    {
     "name": "stdout",
     "output_type": "stream",
     "text": [
      "Alpha: 0.01 \n",
      "Chi-Score: 5.116831652586109 \n",
      "P-value: 0.7450191587030258 \n",
      "dof: 8 \n",
      "Expected: [[72.2969697  37.52121212 41.18181818]\n",
      " [77.56363636 40.25454545 44.18181818]\n",
      " [ 5.74545455  2.98181818  3.27272727]\n",
      " [ 0.47878788  0.24848485  0.27272727]\n",
      " [ 1.91515152  0.99393939  1.09090909]]\n",
      "Decision: Accept Null Hypothesis as p-value is greater than alpha. There is no relationship between the Income and Overall Score.\n"
     ]
    }
   ],
   "source": [
    "print(f'Alpha: {alpha} \\nChi-Score: {chi2} \\nP-value: {pvalue} \\ndof: {dof} \\nExpected: {expected}')\n",
    "if pvalue > alpha:\n",
    "    print('Decision: Accept Null Hypothesis as p-value is greater than alpha. There is no relationship between the Income and Overall Score.')\n",
    "else:\n",
    "    print('Decision: Reject Null Hypothesis as p-value is less than alpha.  There is an association between the Income and Overall Score.')"
   ]
  },
  {
   "cell_type": "markdown",
   "id": "b4eb1012",
   "metadata": {},
   "source": [
    "##### OBSERVATION:\n",
    "So with 99% confidence we can say that three factors (Sinage, Parking, and Clean) are having positive relationship with Overall Score whereas Gender, Marital Status and Income is showing no association with the Overall Satisfaction or we do not have sufficient data to say that Gender, Marital Status and Income are associated with Overall Satisfaction score."
   ]
  },
  {
   "cell_type": "markdown",
   "id": "10ac558e",
   "metadata": {},
   "source": [
    "### (c) What is the demographic profile of Film on the Rocks patrons?"
   ]
  },
  {
   "cell_type": "code",
   "execution_count": 104,
   "id": "c3f1bfe1",
   "metadata": {},
   "outputs": [
    {
     "data": {
      "text/plain": [
       "Gender  Movie                  \n",
       "1       Willy Wonka                 53\n",
       "        Ferris Buellers Day Off     51\n",
       "        Old School                  13\n",
       "2       Willy Wonka                108\n",
       "        Ferris Buellers Day Off     86\n",
       "        Old School                  19\n",
       "Name: Movie, dtype: int64"
      ]
     },
     "execution_count": 104,
     "metadata": {},
     "output_type": "execute_result"
    }
   ],
   "source": [
    "#Demographic profile of films based on Gender\n",
    "demo_gender = films.groupby(['Gender'])['Movie'].value_counts()\n",
    "demo_gender"
   ]
  },
  {
   "cell_type": "code",
   "execution_count": 105,
   "id": "415c7f48",
   "metadata": {},
   "outputs": [
    {
     "data": {
      "image/png": "[encoded data removed]",
      "text/plain": [
       "<Figure size 800x500 with 1 Axes>"
      ]
     },
     "metadata": {},
     "output_type": "display_data"
    }
   ],
   "source": [
    "demo_gender.plot(kind='bar', figsize=(8, 5))\n",
    "plt.title('Demographic Profile of Movie - Gender')\n",
    "plt.xlabel('Gender')\n",
    "plt.ylabel('Count')\n",
    "#plt.legend(title='Product')\n",
    "plt.show()"
   ]
  },
  {
   "cell_type": "code",
   "execution_count": 106,
   "id": "c0929b2f",
   "metadata": {},
   "outputs": [
    {
     "data": {
      "text/plain": [
       "Marital_Status  Movie                  \n",
       "1               Willy Wonka                 48\n",
       "                Ferris Buellers Day Off     41\n",
       "                Old School                  11\n",
       "2               Willy Wonka                113\n",
       "                Ferris Buellers Day Off     96\n",
       "                Old School                  21\n",
       "Name: Movie, dtype: int64"
      ]
     },
     "execution_count": 106,
     "metadata": {},
     "output_type": "execute_result"
    }
   ],
   "source": [
    "#Demographic profile of films based on marital Status\n",
    "demo_marital = films.groupby(['Marital_Status'])['Movie'].value_counts()\n",
    "demo_marital"
   ]
  },
  {
   "cell_type": "code",
   "execution_count": 107,
   "id": "a8cd7fb2",
   "metadata": {},
   "outputs": [
    {
     "data": {
      "image/png": "[encoded data removed]",
      "text/plain": [
       "<Figure size 800x500 with 1 Axes>"
      ]
     },
     "metadata": {},
     "output_type": "display_data"
    }
   ],
   "source": [
    "demo_marital.plot(kind='bar', figsize=(8, 5))\n",
    "plt.title('Demographic Profile of Movie - Marital Status')\n",
    "plt.xlabel('Marital Status')\n",
    "plt.ylabel('Count')\n",
    "#plt.legend(title='Product')\n",
    "plt.show()"
   ]
  },
  {
   "cell_type": "code",
   "execution_count": 108,
   "id": "a2f464aa",
   "metadata": {},
   "outputs": [
    {
     "data": {
      "text/plain": [
       "Age  Movie                  \n",
       "1.0  Ferris Buellers Day Off    12\n",
       "     Willy Wonka                12\n",
       "     Old School                  2\n",
       "2.0  Willy Wonka                87\n",
       "     Ferris Buellers Day Off    70\n",
       "     Old School                 20\n",
       "3.0  Willy Wonka                59\n",
       "     Ferris Buellers Day Off    48\n",
       "     Old School                 10\n",
       "4.0  Ferris Buellers Day Off     7\n",
       "     Willy Wonka                 3\n",
       "Name: Movie, dtype: int64"
      ]
     },
     "execution_count": 108,
     "metadata": {},
     "output_type": "execute_result"
    }
   ],
   "source": [
    "#Demographic profile of films based on Age\n",
    "demo_age = films.groupby(['Age'])['Movie'].value_counts()\n",
    "demo_age"
   ]
  },
  {
   "cell_type": "code",
   "execution_count": 109,
   "id": "9c2db601",
   "metadata": {},
   "outputs": [
    {
     "data": {
      "image/png": "[encoded data removed]",
      "text/plain": [
       "<Figure size 800x500 with 1 Axes>"
      ]
     },
     "metadata": {},
     "output_type": "display_data"
    }
   ],
   "source": [
    "demo_age.plot(kind='bar', figsize=(8, 5))\n",
    "plt.title('Demographic Profile of Movie - Age')\n",
    "plt.xlabel('Age Category')\n",
    "plt.ylabel('Count')\n",
    "#plt.legend(title='Product')\n",
    "plt.show()"
   ]
  },
  {
   "cell_type": "code",
   "execution_count": 110,
   "id": "05a975f0",
   "metadata": {},
   "outputs": [
    {
     "data": {
      "text/plain": [
       "Income  Movie                  \n",
       "1.0     Willy Wonka                83\n",
       "        Ferris Buellers Day Off    61\n",
       "        Old School                 14\n",
       "2.0     Ferris Buellers Day Off    39\n",
       "        Willy Wonka                36\n",
       "        Old School                  7\n",
       "3.0     Willy Wonka                42\n",
       "        Ferris Buellers Day Off    37\n",
       "        Old School                 11\n",
       "Name: Movie, dtype: int64"
      ]
     },
     "execution_count": 110,
     "metadata": {},
     "output_type": "execute_result"
    }
   ],
   "source": [
    "#Demographic profile of films based on Income\n",
    "demo_inc = films.groupby(['Income'])['Movie'].value_counts()\n",
    "demo_inc"
   ]
  },
  {
   "cell_type": "code",
   "execution_count": 111,
   "id": "7de0b9e5",
   "metadata": {},
   "outputs": [
    {
     "data": {
      "text/plain": [
       "array([83, 61, 14, 39, 36,  7, 42, 37, 11], dtype=int64)"
      ]
     },
     "execution_count": 111,
     "metadata": {},
     "output_type": "execute_result"
    }
   ],
   "source": [
    "demo_inc.values"
   ]
  },
  {
   "cell_type": "code",
   "execution_count": 112,
   "id": "f98ea2fa",
   "metadata": {},
   "outputs": [
    {
     "data": {
      "image/png": "[encoded data removed]",
      "text/plain": [
       "<Figure size 800x500 with 1 Axes>"
      ]
     },
     "metadata": {},
     "output_type": "display_data"
    }
   ],
   "source": [
    "demo_inc.plot(kind='bar', figsize=(8, 5))\n",
    "plt.title('Demographic Profile of Movie - Income')\n",
    "plt.xlabel('Income')\n",
    "plt.ylabel('Count')\n",
    "#plt.legend(title='Product')\n",
    "plt.show()"
   ]
  },
  {
   "cell_type": "markdown",
   "id": "1ebcc5dc",
   "metadata": {},
   "source": [
    "##### OBSERVATIONS:\n",
    "1) There are more no. of FEMALES.\n",
    "\n",
    "2) There are more no. of SINGLES.\n",
    "\n",
    "3) Most people are from Age group 2.0 (13-30yrs) and Age Group 3.0 (31-60yrs)\n",
    "\n",
    "4) Most people are from income group of 1.0 i.e. (Less than $50,000)."
   ]
  },
  {
   "cell_type": "markdown",
   "id": "4103d1ab",
   "metadata": {},
   "source": [
    "### (d) In what media outlet(s) should the film series be advertised?"
   ]
  },
  {
   "cell_type": "code",
   "execution_count": 113,
   "id": "0c7dfcb0",
   "metadata": {},
   "outputs": [
    {
     "data": {
      "text/plain": [
       "5      233\n",
       "4       41\n",
       "1       22\n",
       "3       14\n",
       "2       12\n",
       "2,5      2\n",
       "3,4      2\n",
       "4,5      1\n",
       "1,5      1\n",
       "5,4      1\n",
       "3,5      1\n",
       "Name: Hear_About, dtype: int64"
      ]
     },
     "execution_count": 113,
     "metadata": {},
     "output_type": "execute_result"
    }
   ],
   "source": [
    "films.Hear_About.value_counts()"
   ]
  },
  {
   "cell_type": "markdown",
   "id": "d145eadd",
   "metadata": {},
   "source": [
    "    Respondents could check any of the following that applied: 1 = television; 2 = newspaper; 3 = radio; 4 = website; 5 = word of mouth. \n",
    "    As most film viewers are coming by \"word of mouth\" but it does not come under media outlet so, we'll go with the second option which is 4.0 i.e. WEBSITE Therefore, film series should be advertised mainly in WEBSITE media outlet."
   ]
  },
  {
   "cell_type": "markdown",
   "id": "ab66e23e",
   "metadata": {},
   "source": [
    "##### ------------------------------------------------------------------------------------THANK YOU-------------------------------------------------------------------------------------------------"
   ]
  },
  {
   "cell_type": "code",
   "execution_count": null,
   "id": "1b0f53fd",
   "metadata": {},
   "outputs": [],
   "source": []
  }
 ],
 "metadata": {
  "kernelspec": {
   "display_name": "Python 3 (ipykernel)",
   "language": "python",
   "name": "python3"
  },
  "language_info": {
   "codemirror_mode": {
    "name": "ipython",
    "version": 3
   },
   "file_extension": ".py",
   "mimetype": "text/x-python",
   "name": "python",
   "nbconvert_exporter": "python",
   "pygments_lexer": "ipython3",
   "version": "3.8.5"
  }
 },
 "nbformat": 4,
 "nbformat_minor": 5
}
